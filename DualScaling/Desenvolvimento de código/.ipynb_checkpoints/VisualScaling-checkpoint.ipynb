{
 "cells": [
  {
   "cell_type": "markdown",
   "metadata": {},
   "source": [
    "### Importações necessárias"
   ]
  },
  {
   "cell_type": "code",
   "execution_count": 1,
   "metadata": {},
   "outputs": [],
   "source": [
    "import numpy as ny\n",
    "import math\n",
    "from numpy import *\n",
    "from numpy.linalg import inv\n",
    "import numpy.linalg as la\n",
    "import csv"
   ]
  },
  {
   "cell_type": "markdown",
   "metadata": {},
   "source": [
    "### Função de impressão tester"
   ]
  },
  {
   "cell_type": "code",
   "execution_count": 2,
   "metadata": {},
   "outputs": [],
   "source": [
    "def pmatriz(matrizz, mens):\n",
    "    matrizz = ny.array(matrizz)\n",
    "    print('*=' * 50)\n",
    "    print(f'{mens:^90}')\n",
    "    print('*=' * 50)\n",
    "    print('      ', end='')\n",
    "    for i in range(1, matrizz.shape[1] + 1):\n",
    "        print(f'{i:^7}', end='')\n",
    "    print('\\n', '*=' * 50)\n",
    "    for i in range(matrizz.shape[0]):\n",
    "        print(f'{i + 1:>2} == ', end='')\n",
    "        for j in range(matrizz.shape[1]):\n",
    "            if type(matrizz[i][j]) == ny.int32:\n",
    "                print(f'{matrizz[i][j]:>4} ', end='')\n",
    "            else:\n",
    "                print(f'{matrizz[i][j]:>6.3f} ', end='')\n",
    "        print()\n",
    "    print('*=' * 50)"
   ]
  },
  {
   "cell_type": "markdown",
   "metadata": {},
   "source": [
    "### Função para cálculo dos suportes dos pontos médios dos itens de determinada Regra de Associação"
   ]
  },
  {
   "cell_type": "code",
   "execution_count": 3,
   "metadata": {},
   "outputs": [],
   "source": [
    "def calc_sup(linha_da_RA, vetor_dos_itens, Matriz_P_de_Respostas):\n",
    "    item = vetor_dos_itens[linha_da_RA]\n",
    "    soma = 0\n",
    "    for i in range(Matriz_P_de_Respostas.shape[0]):\n",
    "        verdade = True\n",
    "        for j in item:\n",
    "            if Matriz_P_de_Respostas[i,j-1] != 1:\n",
    "                verdade = False\n",
    "        if verdade:\n",
    "            soma += 1\n",
    "    return soma"
   ]
  },
  {
   "cell_type": "markdown",
   "metadata": {},
   "source": [
    "### Função para cálculo do ponto médio"
   ]
  },
  {
   "cell_type": "code",
   "execution_count": 4,
   "metadata": {},
   "outputs": [],
   "source": [
    "def calcpm(ptos, matriz_de_coordenadas_dos_itens):\n",
    "    if len(ptos) == 1:\n",
    "        ptm = matriz_de_coordenadas_dos_itens[ptos[0] - 1]\n",
    "    else:\n",
    "        soma = 0\n",
    "        for j in ptos:\n",
    "            soma += matriz_de_coordenadas_dos_itens[j - 1]\n",
    "        ptm = soma / len(ptos)\n",
    "    return ptm"
   ]
  },
  {
   "cell_type": "markdown",
   "metadata": {},
   "source": [
    "### Função para cálculo da distância entre os pontos médios antecedente e consequente"
   ]
  },
  {
   "cell_type": "code",
   "execution_count": 5,
   "metadata": {},
   "outputs": [],
   "source": [
    "def calcdistfim(roh, px1, px2, sup1, sup2, tam, ditens):\n",
    "    for k in range(len(px1)):\n",
    "        a = px1[k]\n",
    "        b = px2[k]\n",
    "        c = math.sqrt(sup1/tam)\n",
    "        d = math.sqrt(sup2/tam)\n",
    "        ditens += roh[k] * ((a/c \n",
    "                            - b/d)**2) #Qui-quadrado\n",
    "    #print(ditens)\n",
    "    return ditens"
   ]
  },
  {
   "cell_type": "markdown",
   "metadata": {},
   "source": [
    "### Função para cálculo da distância entre itens e submatrizes de distâncias dada det. regra de associação."
   ]
  },
  {
   "cell_type": "code",
   "execution_count": 6,
   "metadata": {},
   "outputs": [],
   "source": [
    "def dist2ptsi(ptos, M_cides, V_fc, tamanho, roh, n_lin):\n",
    "    Ditens = ny.zeros((len(ptos),len(ptos)), dtype=float32) # matriz de zeros\n",
    "    i=0\n",
    "    while i in range(len(ptos)):\n",
    "        for j in range(len(ptos)):\n",
    "            d_itens = 0\n",
    "            linha1 = ptos[i]-1\n",
    "            linha2 = ptos[j]-1\n",
    "            for k in range(tamanho):\n",
    "                d_itens += roh[k] * (((M_cides[linha1][k])/math.sqrt(V_fc[linha1]/n_lin) \n",
    "                            - (M_cides[linha2][k])/math.sqrt(V_fc[linha2]/n_lin))**2) #Qui-quadrado\n",
    "            if i != j:\n",
    "                Ditens[i,j] = round(d_itens,2)\n",
    "                Ditens[j,i] = round(d_itens,2)\n",
    "        i+=1\n",
    "    return Ditens"
   ]
  },
  {
   "cell_type": "markdown",
   "metadata": {},
   "source": [
    "### Função para cálculo da distância entre transações"
   ]
  },
  {
   "cell_type": "code",
   "execution_count": 7,
   "metadata": {},
   "outputs": [],
   "source": [
    "def dist2ptst(ptos):\n",
    "    ematriz = (len(ptos) == Mctd.shape[0])\n",
    "    if ematriz:\n",
    "        Ditens = ny.zeros((len(ptos),len(ptos)), dtype=float32) # matriz de zeros\n",
    "    if len(ptos) < 2:\n",
    "        return 'Hove um erro e foi passado apenas um ponto!'\n",
    "    i=0\n",
    "    while len(ptos) >= 2:\n",
    "        while i in range(len(ptos)):\n",
    "            for j in range(1,len(ptos)):\n",
    "                d_itens = 0\n",
    "                linha = ptos[0]-1\n",
    "                coluna = ptos[j]-1\n",
    "                for k in range(Des):\n",
    "                    d_itens += rho[k] * (((Mctd[linha][k]/math.sqrt(Vfl[linha]/ncol))\n",
    "                                - (Mctd[coluna][k]/math.sqrt(Vfl[coluna]/ncol)))**2) #Qui-quadrado\n",
    "                if ematriz:\n",
    "                    Ditens[linha,coluna] = round(d_itens,2)\n",
    "                    Ditens[coluna,linha] = round(d_itens,2)\n",
    "                else: print(f'Distância entre {ptos[i]} e {ptos[j]} = {d_itens:.2f}')\n",
    "            ptos.pop(0)\n",
    "    if ematriz: return Ditens"
   ]
  },
  {
   "cell_type": "markdown",
   "metadata": {},
   "source": [
    "### Criando a matriz[n][m] de respostas a partir dos dados fornecidos pelo mestre Altobelli."
   ]
  },
  {
   "cell_type": "code",
   "execution_count": 8,
   "metadata": {},
   "outputs": [],
   "source": [
    "arq = open('led7_data_without_class.dat', 'r')\n",
    "texto = arq.readlines()\n",
    "matriz = []\n",
    "lres = []\n",
    "nrpp = 2\n",
    "for linha in texto:\n",
    "    limite = 0\n",
    "    linElem = linha.split()\n",
    "    while limite < len(linElem):\n",
    "        a = int(linElem[limite]) - nrpp * limite\n",
    "        if a % 2 == 0:\n",
    "            lres += [0, 1]\n",
    "        else:\n",
    "            # from IPython.core.debugger import Tracer; Tracer()()\n",
    "            lres += [1, 0]\n",
    "        limite += 1\n",
    "    matriz += [lres]\n",
    "    lres = []\n",
    "arq.close()\n",
    "MPR = ny.matrix(matriz)\n",
    "# print(*matrizF,sep='\\n')\n",
    "ncol = MPR.shape[1]\n",
    "nlin = MPR.shape[0]\n",
    "nperguntas = ncol // nrpp\n",
    "Des = ncol - nperguntas - 1\n",
    "# print('\\nNúmero de colunas = ',ncol)\n",
    "# print('Número de linhas = ',nlin)\n",
    "# print('Número de perguntas = ',nperguntas)\n",
    "# print('Dimensões do espaço solução = ',Des)\n",
    "# pmatriz(MPR,'Matriz de Padrão de Respostas')"
   ]
  },
  {
   "cell_type": "markdown",
   "metadata": {},
   "source": [
    "### Matriz transposta da MPR"
   ]
  },
  {
   "cell_type": "code",
   "execution_count": 9,
   "metadata": {},
   "outputs": [],
   "source": [
    "MPRt = ny.transpose(MPR)\n",
    "#pmatriz(MPRt,'Matriz Transposta de Padrão de Respostas')"
   ]
  },
  {
   "cell_type": "markdown",
   "metadata": {},
   "source": [
    "### Vetor de frequência de linhas (Vfl)"
   ]
  },
  {
   "cell_type": "code",
   "execution_count": 10,
   "metadata": {},
   "outputs": [],
   "source": [
    "#Cálculo da Matriz Diagonal de Linhas de F = Vfl\n",
    "Vfl = ny.sum(MPR, axis=1)\n",
    "#print (Vfl)"
   ]
  },
  {
   "cell_type": "markdown",
   "metadata": {},
   "source": [
    "### Vetor de frequência de colunas (Vfcc)"
   ]
  },
  {
   "cell_type": "code",
   "execution_count": 11,
   "metadata": {},
   "outputs": [],
   "source": [
    "Vfcc = []\n",
    "soma = 0\n",
    "for i in range(ncol):\n",
    "    for j in range(len(matriz)):\n",
    "        soma += matriz[j][i]\n",
    "    Vfcc.append(soma)\n",
    "    soma = 0\n",
    "Vfc = ny.sum(MPR, axis=0)\n",
    "# print(Vfc.shape,'\\n')\n",
    "# print(len(Vfcc))\n",
    "#print(Vfc,'\\n\\n',Vfcc)"
   ]
  },
  {
   "cell_type": "markdown",
   "metadata": {},
   "source": [
    "### Cálculo das matrizes diagonais - MdL = matriz diagonal de linhas(nxn) - MdC = matriz diagonal de colunas(mxm)"
   ]
  },
  {
   "cell_type": "code",
   "execution_count": 12,
   "metadata": {},
   "outputs": [],
   "source": [
    "MdC = ny.diagflat(Vfc)\n",
    "MdL = ny.diagflat(Vfl)\n",
    "# print('   Matriz Diagonal de Linhas')\n",
    "# print(*MdL, sep='\\n')\n",
    "# print('     Matriz Diagonal de Colunas')\n",
    "# print(*MdC, sep = '\\n')"
   ]
  },
  {
   "cell_type": "markdown",
   "metadata": {},
   "source": [
    "### Matriz de correlação entre colunas"
   ]
  },
  {
   "cell_type": "code",
   "execution_count": 13,
   "metadata": {},
   "outputs": [],
   "source": [
    "MdCi = inv(MdC)\n",
    "MdLi = inv(MdL)\n",
    "Mcc = MPRt * MdLi * MPR * MdCi\n",
    "# pmatriz(Mcc,'Matriz de Correlação entre Colunas')"
   ]
  },
  {
   "cell_type": "markdown",
   "metadata": {},
   "source": [
    "### Vetor de autovalores(Vetaval) e matriz de autovetores(Mavet) com normalização"
   ]
  },
  {
   "cell_type": "code",
   "execution_count": 14,
   "metadata": {},
   "outputs": [
    {
     "name": "stderr",
     "output_type": "stream",
     "text": [
      "C:\\Users\\JRicardo\\AppData\\Local\\Continuum\\anaconda3\\lib\\site-packages\\ipykernel_launcher.py:8: ComplexWarning: Casting complex values to real discards the imaginary part\n",
      "  \n",
      "C:\\Users\\JRicardo\\AppData\\Local\\Continuum\\anaconda3\\lib\\site-packages\\ipykernel_launcher.py:9: ComplexWarning: Casting complex values to real discards the imaginary part\n",
      "  if __name__ == '__main__':\n"
     ]
    }
   ],
   "source": [
    "vetaval, mavet = la.eig(Mcc)\n",
    "Vetaval = ny.flip(ny.sort(vetaval, axis=0), 0)\n",
    "valaux = mavet.T.tolist()  # transforma uma matriz numpy em uma lista para facilitar a manipulação dos dados.\n",
    "Mavet = []  # Cria a Matriz de autovetores ordenada em função dos autovalores\n",
    "for elem in Vetaval:\n",
    "    ix = vetaval.tolist().index(elem)\n",
    "    Mavet.append(valaux[ix])\n",
    "Mavet = ny.array(Mavet).T.astype(ny.float32)  # converte números complexos para float 32\n",
    "Vetaval = Vetaval.astype(ny.float32)\n",
    "# '\\n',Vetaval)\n",
    "Vetaval = ny.delete(Vetaval, 0, 0)  # apaga a solução trivial no vetor de autovalores e na matriz\n",
    "Mavet = ny.delete(Mavet, 0, 1)  # de autovetores removendo a primeira dimensão\n",
    "while Des < Vetaval.shape[0]:\n",
    "    Vetaval = ny.delete(Vetaval, Des, 0)\n",
    "    Mavet = ny.delete(Mavet, Des, 1)"
   ]
  },
  {
   "cell_type": "markdown",
   "metadata": {},
   "source": [
    "### Cálculo do Rho"
   ]
  },
  {
   "cell_type": "code",
   "execution_count": 15,
   "metadata": {},
   "outputs": [],
   "source": [
    "rho = list()\n",
    "for x in Vetaval:\n",
    "    rho.append(sqrt(x))\n",
    "rho = ny.array(rho)\n",
    "# for i in range(len(rho)):\n",
    "#   print(f'{rho[i]:>5.4f}  ', end='')"
   ]
  },
  {
   "cell_type": "markdown",
   "metadata": {},
   "source": [
    "### Matriz resultante do porduto de Hadamard(MpHad)"
   ]
  },
  {
   "cell_type": "code",
   "execution_count": 16,
   "metadata": {},
   "outputs": [],
   "source": [
    "MpHad = ny.multiply(Mavet, Mavet)\n",
    "# print(MpHad)"
   ]
  },
  {
   "cell_type": "markdown",
   "metadata": {},
   "source": [
    "### Calculando a Matriz T e seu vetor de frequência de colunas"
   ]
  },
  {
   "cell_type": "code",
   "execution_count": 17,
   "metadata": {},
   "outputs": [],
   "source": [
    "matrizT = MdC * MpHad #equação(7)\n",
    "matrizT = ny.array(matrizT)\n",
    "VfcT=list()\n",
    "VfcT=ny.sum(matrizT, axis=0) #soma coluna, caso axis=1 somaria linha = equação(8)\n",
    "#for i in VfcT:\n",
    "    #print(f'{i:>5.4f} ', end='')\n",
    "#pmatriz(matrizT,'Matriz T')"
   ]
  },
  {
   "cell_type": "markdown",
   "metadata": {},
   "source": [
    "### Vetor de multiplicadores e escalar da matriz padrão-de-respostas. eq(9)"
   ]
  },
  {
   "cell_type": "code",
   "execution_count": 18,
   "metadata": {},
   "outputs": [],
   "source": [
    "escalarMPR = ny.sum(matriz)\n",
    "VetMulticT = list()\n",
    "for i in VfcT:\n",
    "    VetMulticT.append(math.sqrt(escalarMPR / i))\n",
    "# for i in range(len(VetMulticT)):\n",
    "#   print(f'{VetMulticT[i]:>7.4f}', end='')"
   ]
  },
  {
   "cell_type": "markdown",
   "metadata": {},
   "source": [
    "### Cálculo da Matriz de Pesos Padrão dos itens(Mppi = x_normed)"
   ]
  },
  {
   "cell_type": "code",
   "execution_count": 19,
   "metadata": {},
   "outputs": [],
   "source": [
    "# Equação(10) Matriz de pesos padrão dos itens(Mppi)\n",
    "Mppi = list()\n",
    "aux = list()\n",
    "for i in range(Mavet.shape[0]):\n",
    "    for n in range(len(VetMulticT)):\n",
    "        aux.append(Mavet[i][n] * VetMulticT[n])\n",
    "    Mppi.append(aux[:])\n",
    "    aux.clear()\n",
    "Mppi = ny.array(Mppi)\n",
    "# pmatriz(Mppi,'Matriz de Pesos Padrão dos Itens')"
   ]
  },
  {
   "cell_type": "markdown",
   "metadata": {},
   "source": [
    "### Matriz das Coordenadas dos Itens nas Dimensões (Mcides = x_projected)"
   ]
  },
  {
   "cell_type": "code",
   "execution_count": 20,
   "metadata": {},
   "outputs": [],
   "source": [
    "Mcides = Mppi * rho\n",
    "# pmatriz(Mcides,'Matriz de Coordenadas dos Itens nas Dimensões')"
   ]
  },
  {
   "cell_type": "markdown",
   "metadata": {},
   "source": [
    "### Matriz das Coordenadas das Transações nas Dimensões"
   ]
  },
  {
   "cell_type": "code",
   "execution_count": 21,
   "metadata": {},
   "outputs": [],
   "source": [
    "Ctdes = MPR * Mppi  # fórmula (13) matriz W\n",
    "Ctdes = ny.array(Ctdes)\n",
    "#pmatriz(Ctdes,'Matriz de Coordenadas das Transações nas Dimensões')"
   ]
  },
  {
   "cell_type": "markdown",
   "metadata": {},
   "source": [
    "### Matriz de Pesos Padrão das Transações (Mppt = y_normed)"
   ]
  },
  {
   "cell_type": "code",
   "execution_count": 22,
   "metadata": {},
   "outputs": [],
   "source": [
    "Mppt = Ctdes / (Vfl * rho)  # fórmula (14)\n",
    "#pmatriz(Mppt,'Matriz de Pesos Padrão de Transações')"
   ]
  },
  {
   "cell_type": "markdown",
   "metadata": {},
   "source": [
    "### Matriz de Coordenadas das Transações nas Dimensões (Mctd = y_projected)"
   ]
  },
  {
   "cell_type": "code",
   "execution_count": 23,
   "metadata": {},
   "outputs": [],
   "source": [
    "Mctd = Ctdes / Vfl  # fórmula (15) simplificada\n",
    "Mctd = ny.array(Mctd)\n",
    "# pmatriz(Mctd,'Matriz de Coordenadas das Transações de itens')"
   ]
  },
  {
   "cell_type": "markdown",
   "metadata": {},
   "source": [
    "### Calculando o Delta"
   ]
  },
  {
   "cell_type": "code",
   "execution_count": 24,
   "metadata": {},
   "outputs": [],
   "source": [
    "Delta = Vetaval * (100 / ny.sum(Vetaval))\n",
    "# for i in Delta:\n",
    "#   print(f'{i:5.4f}  ', end='')"
   ]
  },
  {
   "cell_type": "markdown",
   "metadata": {},
   "source": [
    "### Preparando a montagem do arquivo de extensão CSV"
   ]
  },
  {
   "cell_type": "code",
   "execution_count": 25,
   "metadata": {},
   "outputs": [],
   "source": [
    "arq2 = open('led7_result.txt', 'r') # ARQUIVO QUE CONTÉM AS REGRAS DE ASSOCIAÇÃO DE INTERESSE\n",
    "texto2 = arq2.readlines()\n",
    "arq2.close()\n",
    "confList = []\n",
    "confDesejada = 0  # 40% de confiança\n",
    "for x in texto2:\n",
    "    linhatxt = x.split()\n",
    "    conflinha = float(linhatxt[len(linhatxt) - 1])\n",
    "    if conflinha >= confDesejada:\n",
    "        confList.append(linhatxt[:])\n",
    "ra_antcd = []\n",
    "ra_consq = []\n",
    "sup = []\n",
    "aux1 = []\n",
    "aux2 = []\n",
    "pm_antcd = []\n",
    "pm_consq = []\n",
    "for y in confList:\n",
    "    ind = y.index('==>')\n",
    "    sup.append(y[y.index('#SUP:') + 1])\n",
    "    for ini in range(len(y)):\n",
    "        if y[ini] == '#SUP:':\n",
    "            ra_consq.append(aux2[:])\n",
    "            aux2.clear()\n",
    "            ini = len(y)\n",
    "            break\n",
    "        elif ini < ind:\n",
    "            aux1.append(int(y[ini]))\n",
    "            # next\n",
    "        elif y[ini] == '==>':\n",
    "            if len(aux1) > 1:\n",
    "                ra_antcd.append(aux1[:])\n",
    "            else:\n",
    "                ra_antcd.append(aux1[:])\n",
    "            aux1.clear()\n",
    "            # next\n",
    "        elif ini > ind:\n",
    "            aux2.append(int(y[ini]))\n",
    "for i in range(len(confList)):\n",
    "    confianca = float(confList[i][len(confList[i]) - 1]) * 100\n",
    "    pm_antcd.append(calcpm(ra_antcd[i], Mcides))  # pontos médios de todos antecedentes\n",
    "    pm_consq.append(calcpm(ra_consq[i], Mcides))  # pontos médios de todos consequentes\n",
    "pm_antcd = ny.array(pm_antcd)\n",
    "pm_consq = ny.array(pm_consq)\n",
    "# if len(ra_antcd[i])>= 2 and len(ra_consq[i])>= 2:\n",
    "# print(f'projeção de {ra_antcd[i]} em {ra_consq[i]} suporte = {sup[i]} e confiança = {confianca:5.1f}% pm_antcd {pm_antcd[i]} pm_consq {pm_consq[i]}.')\n",
    "# for y in confList:\n",
    "#   a=float(y[len(y)-1])*100\n",
    "#  print(f'Confiança de {a:5.1f}%')\n",
    "# for i in range(len(confList)):\n",
    "# print(pm_antcd[i],' e ', pm_consq[i])\n",
    "# print(total)"
   ]
  },
  {
   "cell_type": "markdown",
   "metadata": {},
   "source": [
    "### Apresentação da Matriz de Distância entre Itens ou outra matriz qualquer dado um conjunto de itens"
   ]
  },
  {
   "cell_type": "code",
   "execution_count": 26,
   "metadata": {},
   "outputs": [
    {
     "name": "stdout",
     "output_type": "stream",
     "text": [
      "\n"
     ]
    }
   ],
   "source": [
    "#a = [1,2,3,4,5,6,7,8,9,10,11,12,13,14]\n",
    "#result = dist2ptsi(a[:], Mcides, Vfcc, Des, rho, nlin)\n",
    "#pmatriz(result,'Distância entre todos os itens')\n",
    "print()"
   ]
  },
  {
   "cell_type": "markdown",
   "metadata": {},
   "source": [
    "### Cálculo do suporte do pontos médios antecedente e consequente"
   ]
  },
  {
   "cell_type": "code",
   "execution_count": 27,
   "metadata": {},
   "outputs": [],
   "source": [
    "supant = []\n",
    "supcons = []\n",
    "for linha_RA in range(len(ra_antcd)):\n",
    "    supant.append(calc_sup(linha_RA, ra_antcd, MPR))\n",
    "    supcons.append(calc_sup(linha_RA, ra_consq, MPR))\n",
    "    #print('linha = ',linha_RA+1, 'sup antec.',ra_antcd[linha_RA],' = ',supant[linha_RA],' === sup conseq.',ra_consq[linha_RA],' = ',supcons[linha_RA])'''\n",
    "# Cálculo do Lift\n",
    "Lift = []\n",
    "for regras in range(len(supcons)):\n",
    "    Lift.append(round(float(confList[regras][len(confList[regras])-1])/supcons[regras],4))"
   ]
  },
  {
   "cell_type": "markdown",
   "metadata": {},
   "source": [
    "### Cálculo do vetor de distância final entre os pontos médios antecedentes e consequentes"
   ]
  },
  {
   "cell_type": "code",
   "execution_count": 28,
   "metadata": {},
   "outputs": [],
   "source": [
    "distantcdconseq = []\n",
    "origem = ny.zeros(Des)\n",
    "dist_antecd_origem = []\n",
    "dist_conseq_origem = []\n",
    "for i in range(len(ra_antcd)):\n",
    "    a = calcdistfim(rho, pm_antcd[i], pm_consq[i], supant[i], supcons[i], nlin, 0)\n",
    "    distantcdconseq.append(a)\n",
    "    a = calcdistfim(rho, pm_antcd[i], origem, supant[i], supcons[i], nlin, 0)\n",
    "    dist_antecd_origem.append(a)\n",
    "    a = calcdistfim(rho, pm_consq[i], origem, supcons[i], supant[i], nlin, 0)\n",
    "    dist_conseq_origem.append(a)\n",
    "#for i in range(len(dist_conseq_origem)):\n",
    "#    print('Para ',i,' = ', dist_conseq_origem[i])\n",
    "#for i in range(len(dist_antecd_origem)):\n",
    "#    print('Para ',i,' = ', dist_antecd_origem[i])"
   ]
  },
  {
   "cell_type": "markdown",
   "metadata": {},
   "source": [
    "### Uso da função para cálculo da distância entre itens e cálculo da distância entre dois pontos quaisquer da lista passada através do arquivo bloodPressureNishisatobook.D18.N15.txt usado na montagem do arquivo .csv"
   ]
  },
  {
   "cell_type": "code",
   "execution_count": 29,
   "metadata": {},
   "outputs": [],
   "source": [
    "Mdara = []\n",
    "Mdcra = []\n",
    "for linha in range(len(ra_antcd)):\n",
    "    Mdara.append([])\n",
    "    Mdcra.append([])\n",
    "    aux1 = dist2ptsi(ra_antcd[linha], Mcides, Vfcc, Des, rho, nlin)\n",
    "    aux1 = ny.array(aux1, dtype=float32)\n",
    "    Mdara[linha].append(aux1)\n",
    "    aux2 = dist2ptsi(ra_consq[linha], Mcides, Vfcc, Des, rho, nlin)\n",
    "    aux2 = ny.array(aux2, dtype=float32)\n",
    "    Mdcra[linha].append(aux2)"
   ]
  },
  {
   "cell_type": "markdown",
   "metadata": {},
   "source": [
    "### Testando a nova meta imposta pelo mestre Altobelli (matrizes do antecedente e consequente)"
   ]
  },
  {
   "cell_type": "code",
   "execution_count": 33,
   "metadata": {},
   "outputs": [],
   "source": [
    "'''arq3 = open('itens_final_12-06-2019.csv', 'w', encoding='utf-8', newline='')\n",
    "try:\n",
    "    escreve = csv.writer(arq3, delimiter=';')\n",
    "    escreve.writerow(['Antecedente', 'Consequente', 'Suporte', 'Confianca','Lift', 'Matriz Antecedentes',\n",
    "                    'Matriz Consequentes', 'Pto Medio Anteced.', 'Pto Medio Conseq.', 'Suporte Anteced.',\n",
    "                    'Suporte Conseq.', 'Dist. Anteced. -> Conseq.','Dist. Anteced. x Origem', 'Dist. Conseq. x Origem'])\n",
    "    for i in range(len(confList)):\n",
    "        b = ra_antcd[i], ra_consq[i], sup[i], confList[i][len(confList[i])-1],Lift[i], Mdara[i][0], Mdcra[i][0],pm_antcd[i],pm_consq[i],supant[i],supcons[i],distantcdconseq[i],dist_antecd_origem[i],dist_conseq_origem[i]\n",
    "        escreve.writerow(b)\n",
    "finally:\n",
    "    arq3.close()'''\n",
    "arq4 = open('itens_final_plot_12-06-2019.csv', 'w', encoding='utf-8', newline='')\n",
    "try:\n",
    "    escreve = csv.writer(arq4, delimiter=';')\n",
    "    escreve.writerow(['Antcd', 'Consqt', 'Suporte', 'Confianca','Lift', 'Sup Antcd',\n",
    "                      'D Antcd_0','Sup Consqt', 'D Conseq_0', 'D Antcd_D Consqt'])\n",
    "    for i in range(len(confList)):\n",
    "        b = ra_antcd[i], ra_consq[i], sup[i], confList[i][len(confList[i])-1], Lift[i], supant[i], dist_antecd_origem[i], supcons[i], dist_conseq_origem[i], distantcdconseq[i]\n",
    "        escreve.writerow(b)\n",
    "finally:\n",
    "    arq4.close()"
   ]
  },
  {
   "cell_type": "markdown",
   "metadata": {},
   "source": [
    "### Cálculo da distância entre os itens e as transações"
   ]
  },
  {
   "cell_type": "code",
   "execution_count": 31,
   "metadata": {},
   "outputs": [],
   "source": [
    "MDIeT = ny.zeros((len(Vfcc),len(Vfl)), dtype=float32)\n",
    "for item in range(len(Vfcc)):\n",
    "    for transacao in range(len(Vfl)):\n",
    "        dist = 0\n",
    "        for dimensao in range(Des):\n",
    "            dist += rho[dimensao] * (((Mctd[transacao][dimensao])**2 / (Vfl[transacao] / ncol)) \n",
    "                    + ((Mcides[item][dimensao])**2 / (Vfcc[item] / nlin)) - 2 * sqrt(rho[dimensao]) \n",
    "                    * ((Mctd[transacao][dimensao]) * (Mcides[item][dimensao]) / sqrt((Vfl[transacao] / ncol) \n",
    "                    * (Vfcc[item] / nlin))))\n",
    "        MDIeT[item, transacao] = dist\n",
    "#pmatriz(MDIeT,'Matriz de distâncias entre Itens e Transações')"
   ]
  },
  {
   "cell_type": "markdown",
   "metadata": {},
   "source": [
    "### Ponto médio da distância de todos os itens do grupo para cada uma das transações"
   ]
  },
  {
   "cell_type": "code",
   "execution_count": null,
   "metadata": {},
   "outputs": [],
   "source": [
    "Vetpmit = ny.sum(MDIeT, axis=0)/MDIeT.shape[0]\n",
    "#print(Vetpmit)"
   ]
  },
  {
   "cell_type": "code",
   "execution_count": null,
   "metadata": {},
   "outputs": [],
   "source": []
  }
 ],
 "metadata": {
  "kernelspec": {
   "display_name": "Python 3",
   "language": "python",
   "name": "python3"
  },
  "language_info": {
   "codemirror_mode": {
    "name": "ipython",
    "version": 3
   },
   "file_extension": ".py",
   "mimetype": "text/x-python",
   "name": "python",
   "nbconvert_exporter": "python",
   "pygments_lexer": "ipython3",
   "version": "3.7.1"
  }
 },
 "nbformat": 4,
 "nbformat_minor": 2
}
