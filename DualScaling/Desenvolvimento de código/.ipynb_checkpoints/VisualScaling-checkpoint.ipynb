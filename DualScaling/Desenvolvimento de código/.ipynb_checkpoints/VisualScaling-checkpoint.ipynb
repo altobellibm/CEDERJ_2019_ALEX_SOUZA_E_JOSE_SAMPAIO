{
 "cells": [
  {
   "cell_type": "markdown",
   "metadata": {},
   "source": [
    "### Importações necessárias"
   ]
  },
  {
   "cell_type": "code",
   "execution_count": 1,
   "metadata": {},
   "outputs": [],
   "source": [
    "import numpy as ny\n",
    "import math\n",
    "from numpy import *\n",
    "from numpy.linalg import inv\n",
    "import numpy.linalg as la\n",
    "import csv"
   ]
  },
  {
   "cell_type": "markdown",
   "metadata": {},
   "source": [
    "### Função de impressão tester"
   ]
  },
  {
   "cell_type": "code",
   "execution_count": 70,
   "metadata": {},
   "outputs": [],
   "source": [
    "def pmatriz(matrizz, mens):\n",
    "    matrizz = ny.array(matrizz)\n",
    "    print('*=' * 50)\n",
    "    print(f'{mens:^90}')\n",
    "    print('*=' * 50)\n",
    "    print('      ', end='')\n",
    "    for i in range(1, matrizz.shape[1] + 1):\n",
    "        print(f'{i:^7}', end='')\n",
    "    print('         ', '*=' * 50)\n",
    "    for i in range(matrizz.shape[0]):\n",
    "        print(f'{i + 1:>2} == ', end='')\n",
    "        for j in range(matrizz.shape[1]):\n",
    "            if type(matrizz[i][j]) == ny.int32:\n",
    "                print(f'{matrizz[i][j]:>4} ', end='')\n",
    "            else:\n",
    "                print(f'{matrizz[i][j]:>6.3f} ', end='')\n",
    "        print()\n",
    "    print('*=' * 50)"
   ]
  },
  {
   "cell_type": "markdown",
   "metadata": {},
   "source": [
    "### Função para cálculo dos suportes dos pontos médios dos itens de determinada Regra de Associação"
   ]
  },
  {
   "cell_type": "code",
   "execution_count": 3,
   "metadata": {},
   "outputs": [],
   "source": [
    "def calc_sup(lin_ra,vetor):\n",
    "        item = []\n",
    "        for i in range(len(vetor[lin_ra])):\n",
    "            item.append([])\n",
    "            item[i].append(zpr[(vetor[lin_ra][i])-1])\n",
    "        vetsup = ny.sum(item, axis=0)\n",
    "        soma = 0\n",
    "        for i in vetsup[0]:\n",
    "            if i == len(vetor[lin_ra]):\n",
    "                soma+=1\n",
    "        return soma"
   ]
  },
  {
   "cell_type": "markdown",
   "metadata": {},
   "source": [
    "### Criando a matriz[n][m] de respostas a partir dos dados fornecidos pelo mestre Altobelli."
   ]
  },
  {
   "cell_type": "code",
   "execution_count": 4,
   "metadata": {},
   "outputs": [],
   "source": [
    "arq = open('bloodPressureNishisatobook-base.D18.N15.txt', 'r')\n",
    "texto = arq.readlines()\n",
    "matriz = []\n",
    "lres = []\n",
    "nrpp = 3\n",
    "for linha in texto:\n",
    "    limite = 0\n",
    "    linElem = linha.split()\n",
    "    while limite < len(linElem):\n",
    "        a = int(linElem[limite]) - nrpp * limite\n",
    "        if a % 3 == 0:\n",
    "            lres += [0, 0, 1]\n",
    "        elif a % 2 == 0:\n",
    "            lres += [0, 1, 0]\n",
    "        else:\n",
    "            # from IPython.core.debugger import Tracer; Tracer()()\n",
    "            lres += [1, 0, 0]\n",
    "        limite += 1\n",
    "    matriz += [lres]\n",
    "    lres = []\n",
    "arq.close()\n",
    "MPR = ny.matrix(matriz)\n",
    "# print(*matrizF,sep='\\n')\n",
    "ncol = MPR.shape[1]\n",
    "nlin = MPR.shape[0]\n",
    "nperguntas = ncol // nrpp\n",
    "Des = ncol - nperguntas - 1\n",
    "# print('\\nNúmero de colunas = ',ncol)\n",
    "# print('Número de linhas = ',nlin)\n",
    "# print('Número de perguntas = ',nperguntas)\n",
    "# print('Dimensões do espaço solução = ',Des)\n",
    "# pmatriz(MPR,'Matriz de Padrão de Respostas')"
   ]
  },
  {
   "cell_type": "markdown",
   "metadata": {},
   "source": [
    "### Matriz transposta da MPR"
   ]
  },
  {
   "cell_type": "code",
   "execution_count": 5,
   "metadata": {},
   "outputs": [],
   "source": [
    "MPRt = ny.transpose(MPR)\n",
    "zpr = ny.array(MPRt)"
   ]
  },
  {
   "cell_type": "markdown",
   "metadata": {},
   "source": [
    "### Vetor de frequência de linhas (Vfl)"
   ]
  },
  {
   "cell_type": "code",
   "execution_count": 6,
   "metadata": {},
   "outputs": [],
   "source": [
    "#Cálculo da Matriz Diagonal de Linhas de F = Vfl\n",
    "Vfl = ny.sum(MPR, axis=1)\n",
    "#print (Vfl)"
   ]
  },
  {
   "cell_type": "markdown",
   "metadata": {},
   "source": [
    "### Vetor de frequência de colunas (Vfcc)"
   ]
  },
  {
   "cell_type": "code",
   "execution_count": 43,
   "metadata": {},
   "outputs": [],
   "source": [
    "Vfcc = []\n",
    "soma = 0\n",
    "for i in range(ncol):\n",
    "    for j in range(len(matriz)):\n",
    "        soma += matriz[j][i]\n",
    "    Vfcc.append(soma)\n",
    "    soma = 0\n",
    "Vfc = ny.sum(MPR, axis=0)\n",
    "# print(Vfc.shape,'\\n')\n",
    "# print(len(Vfcc))\n",
    "# print(Vfc,'\\n\\n',Vfcc)"
   ]
  },
  {
   "cell_type": "markdown",
   "metadata": {},
   "source": [
    "### Cálculo das matrizes diagonais - MdL = matriz diagonal de linhas(nxn) - MdC = matriz diagonal de colunas(mxm)"
   ]
  },
  {
   "cell_type": "code",
   "execution_count": 8,
   "metadata": {},
   "outputs": [],
   "source": [
    "MdC = ny.diagflat(Vfc)\n",
    "MdL = ny.diagflat(Vfl)\n",
    "# print('   Matriz Diagonal de Linhas')\n",
    "# print(*MdL, sep='\\n')\n",
    "# print('     Matriz Diagonal de Colunas')\n",
    "# print(*MdC, sep = '\\n')"
   ]
  },
  {
   "cell_type": "markdown",
   "metadata": {},
   "source": [
    "### Matriz de correlação entre colunas"
   ]
  },
  {
   "cell_type": "code",
   "execution_count": 9,
   "metadata": {},
   "outputs": [],
   "source": [
    "MdCi = inv(MdC)\n",
    "MdLi = inv(MdL)\n",
    "Mcc = MPRt * MdLi * MPR * MdCi\n",
    "# pmatriz(Mcc,'Matriz de Correlação entre Colunas')"
   ]
  },
  {
   "cell_type": "markdown",
   "metadata": {},
   "source": [
    "### Vetor de autovalores(Vetaval) e matriz de autovetores(Mavet) com normalização"
   ]
  },
  {
   "cell_type": "code",
   "execution_count": 10,
   "metadata": {},
   "outputs": [
    {
     "name": "stderr",
     "output_type": "stream",
     "text": [
      "C:\\Users\\JRicardo\\AppData\\Local\\Continuum\\anaconda3\\lib\\site-packages\\ipykernel_launcher.py:8: ComplexWarning: Casting complex values to real discards the imaginary part\n",
      "  \n",
      "C:\\Users\\JRicardo\\AppData\\Local\\Continuum\\anaconda3\\lib\\site-packages\\ipykernel_launcher.py:9: ComplexWarning: Casting complex values to real discards the imaginary part\n",
      "  if __name__ == '__main__':\n"
     ]
    }
   ],
   "source": [
    "vetaval, mavet = la.eig(Mcc)\n",
    "Vetaval = ny.flip(ny.sort(vetaval, axis=0), 0)\n",
    "valaux = mavet.T.tolist()  # transforma uma matriz numpy em uma lista para facilitar a manipulação dos dados.\n",
    "Mavet = []  # Cria a Matriz de autovetores ordenada em função dos autovalores\n",
    "for elem in Vetaval:\n",
    "    ix = vetaval.tolist().index(elem)\n",
    "    Mavet.append(valaux[ix])\n",
    "Mavet = ny.array(Mavet).T.astype(ny.float32)  # converte números complexos para float 32\n",
    "Vetaval = Vetaval.astype(ny.float32)\n",
    "# '\\n',Vetaval)\n",
    "Vetaval = ny.delete(Vetaval, 0, 0)  # apaga a solução trivial no vetor de autovalores e na matriz\n",
    "Mavet = ny.delete(Mavet, 0, 1)  # de autovetores removendo a primeira dimensão\n",
    "while Des < Vetaval.shape[0]:\n",
    "    Vetaval = ny.delete(Vetaval, Des, 0)\n",
    "    Mavet = ny.delete(Mavet, Des, 1)"
   ]
  },
  {
   "cell_type": "markdown",
   "metadata": {},
   "source": [
    "### Cálculo do Rho"
   ]
  },
  {
   "cell_type": "code",
   "execution_count": 11,
   "metadata": {},
   "outputs": [],
   "source": [
    "rho = list()\n",
    "for x in Vetaval:\n",
    "    rho.append(sqrt(x))\n",
    "rho = ny.array(rho)\n",
    "# for i in range(len(rho)):\n",
    "#   print(f'{rho[i]:>5.4f}  ', end='')"
   ]
  },
  {
   "cell_type": "markdown",
   "metadata": {},
   "source": [
    "### Matriz resultante do porduto de Hadamard(MpHad)"
   ]
  },
  {
   "cell_type": "code",
   "execution_count": 12,
   "metadata": {},
   "outputs": [],
   "source": [
    "MpHad = ny.multiply(Mavet, Mavet)\n",
    "# print(MpHad)"
   ]
  },
  {
   "cell_type": "markdown",
   "metadata": {},
   "source": [
    "### Calculando a Matriz T e seu vetor de frequência de colunas"
   ]
  },
  {
   "cell_type": "code",
   "execution_count": 13,
   "metadata": {},
   "outputs": [],
   "source": [
    "matrizT = MdC * MpHad #equação(7)\n",
    "matrizT = ny.array(matrizT)\n",
    "VfcT=list()\n",
    "VfcT=ny.sum(matrizT, axis=0) #soma coluna, caso axis=1 somaria linha = equação(8)\n",
    "#for i in VfcT:\n",
    "    #print(f'{i:>5.4f} ', end='')\n",
    "#pmatriz(matrizT,'Matriz T')"
   ]
  },
  {
   "cell_type": "markdown",
   "metadata": {},
   "source": [
    "### Vetor de multiplicadores e escalar da matriz padrão-de-respostas. eq(9)"
   ]
  },
  {
   "cell_type": "code",
   "execution_count": 14,
   "metadata": {},
   "outputs": [],
   "source": [
    "escalarMPR = ny.sum(matriz)\n",
    "VetMulticT = list()\n",
    "for i in VfcT:\n",
    "    VetMulticT.append(math.sqrt(escalarMPR / i))\n",
    "# for i in range(len(VetMulticT)):\n",
    "#   print(f'{VetMulticT[i]:>7.4f}', end='')"
   ]
  },
  {
   "cell_type": "markdown",
   "metadata": {},
   "source": [
    "### Cálculo da Matriz de Pesos Padrão dos itens(Mppi = x_normed)"
   ]
  },
  {
   "cell_type": "code",
   "execution_count": 15,
   "metadata": {},
   "outputs": [],
   "source": [
    "# Equação(10) Matriz de pesos padrão dos itens(Mppi)\n",
    "Mppi = list()\n",
    "aux = list()\n",
    "for i in range(Mavet.shape[0]):\n",
    "    for n in range(len(VetMulticT)):\n",
    "        aux.append(Mavet[i][n] * VetMulticT[n])\n",
    "    Mppi.append(aux[:])\n",
    "    aux.clear()\n",
    "Mppi = ny.array(Mppi)\n",
    "# pmatriz(Mppi,'Matriz de Pesos Padrão dos Itens')"
   ]
  },
  {
   "cell_type": "markdown",
   "metadata": {},
   "source": [
    "### Matriz das Coordenadas dos Itens nas Dimensões (Mcides = x_projected)"
   ]
  },
  {
   "cell_type": "code",
   "execution_count": 16,
   "metadata": {},
   "outputs": [],
   "source": [
    "Mcides = Mppi * rho\n",
    "# pmatriz(Mcides,'Matriz de Coordenadas dos Itens nas Dimensões')"
   ]
  },
  {
   "cell_type": "markdown",
   "metadata": {},
   "source": [
    "### Matriz das Coordenadas das Transações nas Dimensões"
   ]
  },
  {
   "cell_type": "code",
   "execution_count": 17,
   "metadata": {},
   "outputs": [],
   "source": [
    "Ctdes = MPR * Mppi  # fórmula (13) matriz W\n",
    "Ctdes = ny.array(Ctdes)\n",
    "#pmatriz(Ctdes,'Matriz de Coordenadas das Transações nas Dimensões')"
   ]
  },
  {
   "cell_type": "markdown",
   "metadata": {},
   "source": [
    "### Matriz de Pesos Padrão das Transações (Mppt = y_normed)"
   ]
  },
  {
   "cell_type": "code",
   "execution_count": 18,
   "metadata": {},
   "outputs": [],
   "source": [
    "Mppt = Ctdes / (Vfl * rho)  # fórmula (14)\n",
    "#pmatriz(Mppt,'Matriz de Pesos Padrão de Transações')"
   ]
  },
  {
   "cell_type": "markdown",
   "metadata": {},
   "source": [
    "### Matriz de Coordenadas das Transações nas Dimensões (Mctd = y_projected)"
   ]
  },
  {
   "cell_type": "code",
   "execution_count": 19,
   "metadata": {},
   "outputs": [],
   "source": [
    "Mctd = Ctdes / Vfl  # fórmula (15) simplificada\n",
    "Mctd = ny.array(Mctd)\n",
    "# pmatriz(Mctd,'Matriz de Coordenadas das Transações de itens')"
   ]
  },
  {
   "cell_type": "markdown",
   "metadata": {},
   "source": [
    "### Calculando o Delta"
   ]
  },
  {
   "cell_type": "code",
   "execution_count": 20,
   "metadata": {},
   "outputs": [],
   "source": [
    "Delta = Vetaval * (100 / ny.sum(Vetaval))\n",
    "# for i in Delta:\n",
    "#   print(f'{i:5.4f}  ', end='')"
   ]
  },
  {
   "cell_type": "markdown",
   "metadata": {},
   "source": [
    "### Função para cálculo do ponto médio dos pontos fornecidos pelo arquivo bloodPressureNishisatobook.D18.N15.txt"
   ]
  },
  {
   "cell_type": "code",
   "execution_count": 21,
   "metadata": {},
   "outputs": [],
   "source": [
    "def calcpm(ptos):\n",
    "    a = ptos\n",
    "    soma = ny.zeros(Des, dtype=float32)\n",
    "    for i in range(Des):\n",
    "        for j in range(len(a)):\n",
    "            soma[i] += Mcides[a[j] - 1, i]\n",
    "            # print(f'{a[j]} {soma[i]:.2f}')\n",
    "        soma[i] = round(soma[i] / len(a), 3)\n",
    "        # print(soma[i])\n",
    "    # print(soma)\n",
    "    return soma"
   ]
  },
  {
   "cell_type": "markdown",
   "metadata": {},
   "source": [
    "### Preparando a montagem do arquivo de extensão CSV"
   ]
  },
  {
   "cell_type": "code",
   "execution_count": 22,
   "metadata": {},
   "outputs": [],
   "source": [
    "arq2 = open('bloodPressureNishisatobook.D18.N15.txt', 'r') # ARQUIVO QUE CONTÉM AS REGRAS DE ASSOCIAÇÃO DE INTERESSE\n",
    "texto2 = arq2.readlines()\n",
    "arq2.close()\n",
    "confList = []\n",
    "confDesejada = 0  # 40% de confiança\n",
    "for x in texto2:\n",
    "    linhatxt = x.split()\n",
    "    conflinha = float(linhatxt[len(linhatxt) - 1])\n",
    "    if conflinha >= confDesejada:\n",
    "        confList.append(linhatxt[:])\n",
    "antcd = []\n",
    "consq = []\n",
    "sup = []\n",
    "aux1 = []\n",
    "aux2 = []\n",
    "pm1 = []\n",
    "pm2 = []\n",
    "for y in confList:\n",
    "    ind = y.index('==>')\n",
    "    sup.append(y[y.index('#SUP:') + 1])\n",
    "    for ini in range(len(y)):\n",
    "        if y[ini] == '#SUP:':\n",
    "            consq.append(aux2[:])\n",
    "            aux2.clear()\n",
    "            ini = len(y)\n",
    "            break\n",
    "        elif ini < ind:\n",
    "            aux1.append(int(y[ini]))\n",
    "            # next\n",
    "        elif y[ini] == '==>':\n",
    "            if len(aux1) > 1:\n",
    "                antcd.append(aux1[:])\n",
    "            else:\n",
    "                antcd.append(aux1[:])\n",
    "            aux1.clear()\n",
    "            # next\n",
    "        elif ini > ind:\n",
    "            aux2.append(int(y[ini]))\n",
    "for i in range(len(confList)):\n",
    "    confianca = float(confList[i][len(confList[i]) - 1]) * 100\n",
    "    pm1.append(calcpm(antcd[i]))  # pontos médios de todos antecedentes\n",
    "    pm2.append(calcpm(consq[i]))  # pontos médios de todos consequentes\n",
    "pm1 = ny.array(pm1)\n",
    "pm2 = ny.array(pm2)\n",
    "# if len(antcd[i])>= 2 and len(consq[i])>= 2:\n",
    "# print(f'projeção de {antcd[i]} em {consq[i]} suporte = {sup[i]} e confiança = {confianca:5.1f}% pm1 {pm1[i]} pm2 {pm2[i]}.')\n",
    "# for y in confList:\n",
    "#   a=float(y[len(y)-1])*100\n",
    "#  print(f'Confiança de {a:5.1f}%')\n",
    "# for i in range(len(confList)):\n",
    "# print(pm1[i],' e ', pm2[i])\n",
    "# print(total)"
   ]
  },
  {
   "cell_type": "markdown",
   "metadata": {},
   "source": [
    "### Função para cálculo da distância entre itens e submatrizes de distâncias dada det. regra de associação."
   ]
  },
  {
   "cell_type": "code",
   "execution_count": 64,
   "metadata": {},
   "outputs": [],
   "source": [
    "def dist2ptsi(ptos, M_cides, V_fc, tamanho, roh, n_lin):\n",
    "    Ditens = ny.zeros((len(ptos),len(ptos)), dtype=float32) # matriz de zeros\n",
    "    i=0\n",
    "    while i in range(len(ptos)):\n",
    "        for j in range(len(ptos)):\n",
    "            d_itens = 0\n",
    "            linha1 = ptos[i]-1\n",
    "            linha2 = ptos[j]-1\n",
    "            for k in range(tamanho):\n",
    "                d_itens += roh[k] * (((M_cides[linha1][k])/math.sqrt(V_fc[linha1]/n_lin) \n",
    "                            - (M_cides[linha2][k])/math.sqrt(V_fc[linha2]/n_lin))**2) #Qui-quadrado\n",
    "            if i != j:\n",
    "                Ditens[i,j] = round(d_itens,2)\n",
    "                Ditens[j,i] = round(d_itens,2)\n",
    "        i+=1\n",
    "    return Ditens"
   ]
  },
  {
   "cell_type": "markdown",
   "metadata": {},
   "source": [
    "### Apresentação da Matriz de Distância entre Itens ou outra matriz qualquer dado um conjunto de itens"
   ]
  },
  {
   "cell_type": "code",
   "execution_count": 63,
   "metadata": {},
   "outputs": [
    {
     "name": "stdout",
     "output_type": "stream",
     "text": [
      "\n"
     ]
    }
   ],
   "source": [
    "'''d_2_ptos = ny.zeros(len(pm1), dtype=float32) #Sem função definida até agora(9/5/2019 ; 1:59hs)\n",
    "for i in range(len(pm1)):\n",
    "    soma = 0\n",
    "    for j in range(pm1.shape[1]):\n",
    "        soma += (pm1[i][j]-pm2[i][j])**2\n",
    "        d_2_ptos[i] = math.sqrt(soma)'''\n",
    "#c = [4,7,8]\n",
    "#dist2ptsi(c[:], Mcides, Vfcc, Des, rho, nlin)\n",
    "#a = [1,2,3,4,5,6,7,8,9,10,11,12,13,14,15,16,17,18]\n",
    "#result = dist2ptsi(a[:], Mcides, Vfcc, Des, rho, nlin)\n",
    "#pmatriz(result,'Distância entre todos os itens')\n",
    "print()"
   ]
  },
  {
   "cell_type": "markdown",
   "metadata": {},
   "source": [
    "### Cálculo do suporte do pontos médios antecedente e consequente"
   ]
  },
  {
   "cell_type": "code",
   "execution_count": null,
   "metadata": {},
   "outputs": [],
   "source": [
    "supant = []\n",
    "supcons = []\n",
    "for i in range(len(antcd)):\n",
    "    supant.append(calc_sup(i,antcd))\n",
    "    supcons.append(calc_sup(i,consq))\n",
    "    #print('linha = ',i+1, 'sup antec.',antcd[i],' = ',supant[i],' === sup conseq.',consq[i],' = ',supcons[i])"
   ]
  },
  {
   "cell_type": "markdown",
   "metadata": {},
   "source": [
    "### Função para cálculo da distância entre os pontos médios antecedente e consequente"
   ]
  },
  {
   "cell_type": "code",
   "execution_count": null,
   "metadata": {},
   "outputs": [],
   "source": [
    "def calcdistfim(roh, px1, px2, sup1, sup2, tam, ditens):\n",
    "    for k in range(len(px1)):\n",
    "        a = px1[k]\n",
    "        b = px2[k]\n",
    "        c = math.sqrt(sup1/tam)\n",
    "        d = math.sqrt(sup2/tam)\n",
    "        ditens += roh[k] * ((a/c \n",
    "                            - b/d)**2) #Qui-quadrado\n",
    "    #print(ditens)\n",
    "    return ditens"
   ]
  },
  {
   "cell_type": "markdown",
   "metadata": {},
   "source": [
    "### Cálculo do vetor de distância final entre os pontos médios antecedentes e consequentes"
   ]
  },
  {
   "cell_type": "code",
   "execution_count": null,
   "metadata": {},
   "outputs": [],
   "source": [
    "distantcdconseq = []\n",
    "#origem = ny.array([[0],[0],[0],[0],[0],[0],[0],[0],[0],[0],[0]])\n",
    "origem = ny.array([0,0,0,0,0,0,0,0,0,0,0])\n",
    "dist_antecd_origem = []\n",
    "dist_conseq_origem = []\n",
    "for i in range(len(antcd)):\n",
    "    a = calcdistfim(rho, pm1[i], pm2[i], supant[i], supcons[i], nlin, 0)\n",
    "    distantcdconseq.append(a)\n",
    "    a = calcdistfim(rho, pm1[i], origem, supant[i], supcons[i], nlin, 0)\n",
    "    dist_antecd_origem.append(a)\n",
    "    a = calcdistfim(rho, pm2[i], origem, supcons[i], supant[i], nlin, 0)\n",
    "    dist_conseq_origem.append(a)\n",
    "#for i in range(len(dist_conseq_origem)):\n",
    "#    print('Para ',i,' = ', dist_conseq_origem[i])\n",
    "#for i in range(len(dist_antecd_origem)):\n",
    "#    print('Para ',i,' = ', dist_antecd_origem[i])"
   ]
  },
  {
   "cell_type": "markdown",
   "metadata": {},
   "source": [
    "### Uso da função para cálculo da distância entre itens e cálculo da distância entre dois pontos quaisquer da lista passada através do arquivo bloodPressureNishisatobook.D18.N15.txt usado na montagem do arquivo .csv"
   ]
  },
  {
   "cell_type": "code",
   "execution_count": 65,
   "metadata": {},
   "outputs": [],
   "source": [
    "Mdara = []\n",
    "Mdcra = []\n",
    "for lina in range(len(antcd)):\n",
    "    Mdara.append([])\n",
    "    Mdcra.append([])\n",
    "    aux1 = dist2ptsi(antcd[lina], Mcides, Vfcc, Des, rho, nlin)\n",
    "    aux1 = ny.array(aux1, dtype=float32)\n",
    "    Mdara[lina].append(aux1)\n",
    "    aux2 = dist2ptsi(consq[lina], Mcides, Vfcc, Des, rho, nlin)\n",
    "    aux2 = ny.array(aux2, dtype=float32)\n",
    "    Mdcra[lina].append(aux2)\n",
    "soma = 0"
   ]
  },
  {
   "cell_type": "markdown",
   "metadata": {},
   "source": [
    "### Testando a nova meta imposta pelo mestre Altobelli (matrizes do antecedente e consequente)"
   ]
  },
  {
   "cell_type": "code",
   "execution_count": null,
   "metadata": {},
   "outputs": [],
   "source": [
    "'''arq3 = open('itens.csv', 'w', encoding='utf-8', newline='')\n",
    "try:\n",
    "    escreve = csv.writer(arq3, delimiter=';')\n",
    "    escreve.writerow(['antecedente','consequente','suporte','confiança', 'pto médio ant.', 'pto médio cons.', 'distância entre os ptos.', 'matriz dist antecedente', 'matriz dist consequente'])\n",
    "    for i in range(len(confList)):\n",
    "        a = antcd[i],consq[i],sup[i],confList[i][len(confList[i])-1],pm1[i],pm2[i],d_2_ptos[i], Vdara[i][0], Vdcra[i][0]\n",
    "        escreve.writerow(a)\n",
    "finally:\n",
    "    arq3.close()\n",
    "        \n",
    "arq4 = open('itens2.csv', 'w', encoding='utf-8', newline='')\n",
    "try:\n",
    "    escreve = csv.writer(arq4, delimiter=';')\n",
    "    escreve.writerow(['antecedente', 'consequente', 'suporte', 'confiança', 'distância entre os ptos.',\n",
    "                        'matriz dist antecedente', 'matriz dist consequente'])\n",
    "    for i in range(len(confList)):\n",
    "        a = antcd[i], consq[i], sup[i], confList[i][len(confList[i])-1], d_2_ptos[i], Vdara[i][0], Vdcra[i][0]\n",
    "        escreve.writerow(a)\n",
    "finally:\n",
    "    arq4.close()\n",
    "        \n",
    "arq6 = open('itens_finales.csv', 'w', encoding='utf-8', newline='')\n",
    "try:\n",
    "    escreve = csv.writer(arq6, delimiter=';')\n",
    "    escreve.writerow(['Antecedente', 'Consequente', 'Suporte', 'Confiança'])\n",
    "    for i in range(len(confList)):\n",
    "        confianca = str(round(float(confList[i][len(confList[i])-1])*100,1))+'%'\n",
    "        b = antcd[i], consq[i], sup[i], confianca\n",
    "        escreve.writerow(b)\n",
    "finally:\n",
    "    arq6.close()'''\n",
    "    \n",
    "arq5 = open('itens_final.csv', 'w', encoding='utf-8', newline='')\n",
    "try:\n",
    "    escreve = csv.writer(arq5, delimiter=';')\n",
    "    escreve.writerow(['Antecedente', 'Consequente', 'Suporte', 'Confianca', 'Matriz Antecedentes',\n",
    "                    'Matriz Consequentes', 'Pto Medio Anteced.', 'Pto Medio Conseq.', 'Suporte Anteced.',\n",
    "                    'Suporte Conseq.', 'Dist. Anteced. -> Conseq.','Dist. Anteced. x Origem', 'Dist. Conseq. x Origem'])\n",
    "    for i in range(len(confList)):\n",
    "        confianca = str(round(float(confList[i][len(confList[i])-1])*100,1))+'%'\n",
    "        b = antcd[i], consq[i], sup[i], confianca, Mdara[i][0], Mdcra[i][0],pm1[i],pm2[i],supant[i],supcons[i],distantcdconseq[i],dist_antecd_origem[i],dist_conseq_origem[i]\n",
    "        escreve.writerow(b)\n",
    "finally:\n",
    "    arq5.close()"
   ]
  },
  {
   "cell_type": "markdown",
   "metadata": {},
   "source": [
    "### Função para cálculo da distância entre transações"
   ]
  },
  {
   "cell_type": "code",
   "execution_count": 67,
   "metadata": {},
   "outputs": [],
   "source": [
    "def dist2ptst(ptos):\n",
    "    ematriz = (len(ptos) == Mctd.shape[0])\n",
    "    if ematriz:\n",
    "        Ditens = ny.zeros((len(ptos),len(ptos)), dtype=float32) # matriz de zeros\n",
    "    if len(ptos) < 2:\n",
    "        return 'Hove um erro e foi passado apenas um ponto!'\n",
    "    i=0\n",
    "    while len(ptos) >= 2:\n",
    "        while i in range(len(ptos)):\n",
    "            for j in range(1,len(ptos)):\n",
    "                d_itens = 0\n",
    "                linha = ptos[0]-1\n",
    "                coluna = ptos[j]-1\n",
    "                for k in range(Des):\n",
    "                    d_itens += rho[k] * (((Mctd[linha][k]/math.sqrt(Vfl[linha]/ncol))\n",
    "                                        - (Mctd[coluna][k]/math.sqrt(Vfl[coluna]/ncol)))**2) #Qui-quadrado\n",
    "                if ematriz:\n",
    "                    Ditens[linha,coluna] = round(d_itens,2)\n",
    "                    Ditens[coluna,linha] = round(d_itens,2)\n",
    "                else: print(f'Distância entre {ptos[i]} e {ptos[j]} = {d_itens:.2f}')\n",
    "            ptos.pop(0)\n",
    "    if ematriz: return Ditens"
   ]
  },
  {
   "cell_type": "markdown",
   "metadata": {},
   "source": [
    "### Cálculo da distância entre as transações"
   ]
  },
  {
   "cell_type": "code",
   "execution_count": 72,
   "metadata": {},
   "outputs": [
    {
     "name": "stdout",
     "output_type": "stream",
     "text": [
      "\n"
     ]
    }
   ],
   "source": [
    "'''listptst=list() # lista de regras de confiança para projeção com mais de um ponto.\n",
    "for i in range(len(pem)):\n",
    "    if (len(pem[i]))>=2:\n",
    "        for aux in [i]:\n",
    "            listptst += [aux]'''\n",
    "#for i in listptst:\n",
    "    #print(f'Para o vetor {pem[i]}, temos:')\n",
    "    #dist2ptst(pem[i][:])\n",
    "    #print()\n",
    "#b = [1,2,3,4,5,6,7,8,9,10,11,12,13,14,15]\n",
    "#pmatriz(dist2ptst(b[:]),'Distância entre todos as Transações')\n",
    "#c = [4,7,8]\n",
    "#dist2ptst(c[:])\n",
    "print()"
   ]
  },
  {
   "cell_type": "markdown",
   "metadata": {},
   "source": [
    "### Cálculo da distância entre os itens e as transações"
   ]
  },
  {
   "cell_type": "code",
   "execution_count": 74,
   "metadata": {},
   "outputs": [],
   "source": [
    "MDIeT = ny.zeros((len(Vfcc),len(Vfl)), dtype=float32)\n",
    "for item in range(len(Vfcc)):\n",
    "    for transacao in range(len(Vfl)):\n",
    "        dist = 0\n",
    "        for dimensao in range(Des):\n",
    "            a1 = Mctd[transacao][dimensao]\n",
    "            a2 = Vfl[transacao] / ncol\n",
    "            b1 = Mcides[item][dimensao]\n",
    "            b2 = Vfcc[item] / nlin\n",
    "            a = a1**2 / a2\n",
    "            b = b1**2 / b2\n",
    "            c = a1 * b1 / sqrt(a2 * b2)\n",
    "            dist += rho[dimensao] * (a + b - 2 * sqrt(rho[dimensao]) * c)\n",
    "        MDIeT[item, transacao] = dist\n",
    "#pmatriz(MDIeT,'Matriz de distâncias entre Itens e Transações')"
   ]
  },
  {
   "cell_type": "markdown",
   "metadata": {},
   "source": [
    "#### Ponto médio da distância de todos os itens do grupo para cada uma das transações"
   ]
  },
  {
   "cell_type": "code",
   "execution_count": 77,
   "metadata": {},
   "outputs": [],
   "source": [
    "Vetpmit = ny.sum(MDIeT, axis=0)/MDIeT.shape[0]\n",
    "#print(Vetpmit)"
   ]
  },
  {
   "cell_type": "code",
   "execution_count": null,
   "metadata": {},
   "outputs": [],
   "source": []
  }
 ],
 "metadata": {
  "kernelspec": {
   "display_name": "Python 3",
   "language": "python",
   "name": "python3"
  },
  "language_info": {
   "codemirror_mode": {
    "name": "ipython",
    "version": 3
   },
   "file_extension": ".py",
   "mimetype": "text/x-python",
   "name": "python",
   "nbconvert_exporter": "python",
   "pygments_lexer": "ipython3",
   "version": "3.7.1"
  }
 },
 "nbformat": 4,
 "nbformat_minor": 2
}
