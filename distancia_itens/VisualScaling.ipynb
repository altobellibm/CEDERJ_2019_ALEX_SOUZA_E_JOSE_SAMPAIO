{
 "cells": [
  {
   "cell_type": "markdown",
   "metadata": {},
   "source": [
    "### Importações necessárias"
   ]
  },
  {
   "cell_type": "code",
   "execution_count": null,
   "metadata": {},
   "outputs": [],
   "source": [
    "import numpy as np\n",
    "import math\n",
    "from numpy import *\n",
    "from numpy.linalg import inv\n",
    "import numpy.linalg as la\n",
    "import csv"
   ]
  },
  {
   "cell_type": "markdown",
   "metadata": {},
   "source": [
    "# Parêmtros de entrada"
   ]
  },
  {
   "cell_type": "code",
   "execution_count": null,
   "metadata": {},
   "outputs": [],
   "source": [
    "str_nome = \"pageB\"\n",
    "str_nome_base = \"pageB_data_without_class.dat\"\n",
    "str_nome_regras = \"page_B_regras.txt\""
   ]
  },
  {
   "cell_type": "markdown",
   "metadata": {},
   "source": [
    " # Cálculo Dual Scaling"
   ]
  },
  {
   "cell_type": "markdown",
   "metadata": {},
   "source": [
    "#### Ler arquivo base e criar Matriz padrão respota"
   ]
  },
  {
   "cell_type": "code",
   "execution_count": null,
   "metadata": {},
   "outputs": [],
   "source": [
    "arq = open(str_nome_base, 'r')\n",
    "texto = arq.readlines()\n",
    "base = []\n",
    "item = set()\n",
    "for linha in texto:\n",
    "    valores_linha = []\n",
    "    for value in linha.split():\n",
    "        valores_linha.append(int(value))\n",
    "        item.add(int(value))\n",
    "    base.append(valores_linha)   \n",
    "arq.close()\n",
    "\n",
    "cabecalho = {}\n",
    "i = 0\n",
    "for id in item:\n",
    "    cabecalho[id] = i\n",
    "    i = i + 1\n",
    "\n",
    "#print(valores)\n",
    "\n",
    "F = np.zeros(shape=(len(base), len(item)))\n",
    "for i in range(len(base)):\n",
    "    for value in base[i]:\n",
    "        F[i,cabecalho[value]] = 1\n",
    "\n",
    "print(F)"
   ]
  },
  {
   "cell_type": "markdown",
   "metadata": {},
   "source": [
    "#### Número de Dimensões do Espaço-solução (ns)"
   ]
  },
  {
   "cell_type": "code",
   "execution_count": null,
   "metadata": {},
   "outputs": [],
   "source": [
    "q = len(base[0]) #número de questões (categorias)\n",
    "m = F.shape[1] #número de itens\n",
    "n = F.shape[0] #número de transações\n",
    "\n",
    "ns = m - q - 1\n",
    "\n",
    "print('Total de Dimensões: ', ns,'.')"
   ]
  },
  {
   "cell_type": "markdown",
   "metadata": {},
   "source": [
    "#### Matriz Diagonal de Linhas (Dr) "
   ]
  },
  {
   "cell_type": "code",
   "execution_count": null,
   "metadata": {},
   "outputs": [],
   "source": [
    "#Cálculo da Matriz Diagonal de Linhas de F\n",
    "fr = np.sum(F, axis=1)\n",
    "Dr = np.diagflat(fr)\n",
    "\n",
    "#print(fr)\n",
    "\n",
    "#Cálculo da Matriz Diagonal de Colunas de F\n",
    "fc = np.sum(F, axis=0)\n",
    "Dc = np.diagflat(fc)\n",
    "print(fc)"
   ]
  },
  {
   "cell_type": "markdown",
   "metadata": {},
   "source": [
    "#### Matriz Resultante (M)"
   ]
  },
  {
   "cell_type": "code",
   "execution_count": null,
   "metadata": {},
   "outputs": [],
   "source": [
    "Ft = np.transpose(F) #Matriz Transporta de F\n",
    "Dri = np.linalg.inv(Dr) #Matriz Invertida de Dr\n",
    "Dci = np.linalg.inv(Dc) #Matriz Invertida de Dc\n",
    "\n",
    "#Cálculo da Matriz M\n",
    "M = np.dot(np.dot(np.dot(Ft,Dri),F), Dci)\n",
    "print(M)"
   ]
  },
  {
   "cell_type": "markdown",
   "metadata": {},
   "source": [
    "#### Autovalores (AD) e Autovetores (AV) de M"
   ]
  },
  {
   "cell_type": "code",
   "execution_count": null,
   "metadata": {},
   "outputs": [],
   "source": [
    "#Array de Autovalores (uAD) e Autovetores (uAV) de M.\n",
    "uAD, uAV = np.linalg.eig(M)\n",
    "\n",
    "#Ordenando os Autovalores\n",
    "AD = np.flip(np.sort(uAD, axis=0),0)\n",
    "\n",
    "#np.savetxt('AV_python.txt',uAV.astype(np.float32))\n",
    "\n",
    "#Ordenando os Autovetores em função dos Autovalores\n",
    "uAVt = uAV.T.tolist()\n",
    "AV=[]\n",
    "for r in AD:\n",
    "    #print(n)\n",
    "    ix = uAD.tolist().index(r)\n",
    "    AV.append(uAVt[ix])\n",
    "\n",
    "#convertendo o resultado de um tipo complexo para Float32    \n",
    "AD = AD.astype(np.float32)\n",
    "AV = np.array(AV).T.astype(np.float32)\n",
    "\n",
    "#removendo a primeira dimensão\n",
    "AD = np.delete(AD,0,0)\n",
    "AV = np.delete(AV,0,1)\n",
    "\n",
    "#removendo as demais dimensões que devem ser desconsideradas (de forma que fiquem com dimensão ns)\n",
    "count = ns\n",
    "while count < AD.shape[0]:\n",
    "    AD = np.delete(AD,count,0)\n",
    "    AV = np.delete(AV,count,1)\n",
    "\n",
    "#print(AD)\n",
    "#print(AV)"
   ]
  },
  {
   "cell_type": "markdown",
   "metadata": {},
   "source": [
    "#### rho"
   ]
  },
  {
   "cell_type": "code",
   "execution_count": null,
   "metadata": {},
   "outputs": [],
   "source": [
    "# Cálculo da Matriz unidimensional rho\n",
    "rho = []\n",
    "\n",
    "for i in range(ns):\n",
    "    rho.append(math.sqrt(AD.tolist()[i]))\n",
    "\n",
    "rho = np.array(rho)\n",
    "#print(rho)   "
   ]
  },
  {
   "cell_type": "markdown",
   "metadata": {},
   "source": [
    "#### Matriz Produto de Hadamard (H)"
   ]
  },
  {
   "cell_type": "code",
   "execution_count": null,
   "metadata": {},
   "outputs": [],
   "source": [
    "#Calculo da produto de Hadamard de Autovetores * autovetores\n",
    "H = np.multiply(AV,AV)\n",
    "#print(H.astype(np.float32))"
   ]
  },
  {
   "cell_type": "markdown",
   "metadata": {},
   "source": [
    "#### Matriz T"
   ]
  },
  {
   "cell_type": "code",
   "execution_count": null,
   "metadata": {},
   "outputs": [],
   "source": [
    "#Matriz resultante T\n",
    "T = np.dot(Dc, H)\n",
    "\n",
    "#print(T.astype(np.float32))"
   ]
  },
  {
   "cell_type": "markdown",
   "metadata": {},
   "source": [
    "#### Matriz Cc"
   ]
  },
  {
   "cell_type": "code",
   "execution_count": null,
   "metadata": {},
   "outputs": [],
   "source": [
    "sumCols = np.sum(T, axis=0).tolist()\n",
    "#print (sumCols)\n",
    "ft = np.sum(F)\n",
    "# print(ft)\n",
    "# print(sumCols)\n",
    "Cc = []\n",
    "for i in range(ns):\n",
    "    r = math.sqrt(ft/float(sumCols[i]))\n",
    "    Cc.append(r)\n",
    "\n",
    "# print (Cc) "
   ]
  },
  {
   "cell_type": "markdown",
   "metadata": {},
   "source": [
    "#### Peso padrão dos Itens (x-normed)"
   ]
  },
  {
   "cell_type": "code",
   "execution_count": null,
   "metadata": {},
   "outputs": [],
   "source": [
    "#multiplicação da matriz de autovetores pela matrix Cc\n",
    "x_normed = []\n",
    "for r in AV:\n",
    "    x_normed.append(np.multiply(r,Cc))\n",
    "\n",
    "#print (np.array(x_normed))"
   ]
  },
  {
   "cell_type": "markdown",
   "metadata": {},
   "source": [
    "#### Peso projetado dos Itens (x-projected)"
   ]
  },
  {
   "cell_type": "code",
   "execution_count": null,
   "metadata": {},
   "outputs": [],
   "source": [
    "#Resultado Principal do Dual Scaling\n",
    "x_projected = []\n",
    "for r in x_normed:\n",
    "    x_projected.append(np.multiply(r,rho))\n",
    "\n",
    "x_projected = np.array(x_projected)\n",
    "print (x_projected.shape)"
   ]
  },
  {
   "cell_type": "markdown",
   "metadata": {},
   "source": [
    "#### Calculando Delta (d)"
   ]
  },
  {
   "cell_type": "code",
   "execution_count": null,
   "metadata": {},
   "outputs": [],
   "source": [
    "d = []\n",
    "s = 100/np.sum(AD)\n",
    "for r in AD:\n",
    "    d.append(s*r)\n",
    "print(d)"
   ]
  },
  {
   "cell_type": "markdown",
   "metadata": {},
   "source": [
    "# Calculo de Distância"
   ]
  },
  {
   "cell_type": "markdown",
   "metadata": {},
   "source": [
    "## Distância entre itens (matriz de distância)"
   ]
  },
  {
   "cell_type": "code",
   "execution_count": null,
   "metadata": {},
   "outputs": [],
   "source": [
    "# não precisa calcular\n",
    "DM = np.ndarray(shape=(x_projected.shape[0],x_projected.shape[0]), dtype=float)\n",
    "for i in range(x_projected.shape[0]):\n",
    "    for j in range(x_projected.shape[0]):\n",
    "        quad_dist = 0\n",
    "        for aux in range(ns):\n",
    "            dist = (x_projected.item((i, aux)) / math.sqrt(fc.item(i)/n)) - (x_projected.item((j, aux)) / math.sqrt(fc.item(j)/n))\n",
    "            quad_dist += (dist * dist)*rho.item(aux)\n",
    "        DM.itemset((i,j),quad_dist)\n",
    "        DM.itemset((j,i),quad_dist)\n",
    "\n",
    "#print(DM)\n",
    "#print(rho)\n",
    "\n",
    "oo = np.zeros(shape=(x_projected.shape[0]))\n",
    "for i in range(x_projected.shape[0]):\n",
    "    quad_dist = 0\n",
    "    for aux in range(ns):\n",
    "        dist = (x_projected.item((i, aux)) / math.sqrt(fc.item(i)/n))\n",
    "        quad_dist += (dist * dist)*rho.item(aux)\n",
    "    oo[i] = quad_dist\n",
    "\n",
    "#print(oo)"
   ]
  },
  {
   "cell_type": "markdown",
   "metadata": {},
   "source": [
    "## Função ponto médio"
   ]
  },
  {
   "cell_type": "code",
   "execution_count": null,
   "metadata": {},
   "outputs": [],
   "source": [
    "def ponto_medio(ids_item, x_projected, ns, cabecalho):\n",
    "    ptm = np.zeros(ns)\n",
    "    for i in range(ns):\n",
    "        for item in ids_item:\n",
    "            ptm[i] = ptm[i] + x_projected[cabecalho[item]][i]\n",
    "    ptm = ptm / float(len(ids_item))\n",
    "    return ptm"
   ]
  },
  {
   "cell_type": "markdown",
   "metadata": {},
   "source": [
    "## Função de cálculo de distância de antecedente e consequente"
   ]
  },
  {
   "cell_type": "code",
   "execution_count": null,
   "metadata": {},
   "outputs": [],
   "source": [
    "def distancia_antecedente_consequente(ptmA, supS, ptmC, supC, rho):\n",
    "    quad_dist = 0\n",
    "    for aux in range(ns):\n",
    "        dist = ( ptmA[aux] / math.sqrt(supS) ) - (ptmC[aux] / math.sqrt(supC))\n",
    "        quad_dist += (dist * dist)*rho[aux]\n",
    "    return quad_dist    "
   ]
  },
  {
   "cell_type": "markdown",
   "metadata": {},
   "source": [
    "## Função de cálculo de distância do ponto até a origem"
   ]
  },
  {
   "cell_type": "code",
   "execution_count": null,
   "metadata": {},
   "outputs": [],
   "source": [
    "def distancia_ponto_origem(pt, sup, rho):\n",
    "    quad_dist = 0\n",
    "    for aux in range(ns):\n",
    "        dist = pt[aux] / math.sqrt(sup)\n",
    "        quad_dist += (dist * dist)*rho[aux]\n",
    "    return quad_dist"
   ]
  },
  {
   "cell_type": "markdown",
   "metadata": {},
   "source": [
    "# Métricas de Interesse"
   ]
  },
  {
   "cell_type": "markdown",
   "metadata": {},
   "source": [
    "## confiança P(B | A) = AUB / A"
   ]
  },
  {
   "cell_type": "code",
   "execution_count": null,
   "metadata": {},
   "outputs": [],
   "source": [
    "def get_confianca(sup, supA):\n",
    "    return sup/supA"
   ]
  },
  {
   "cell_type": "markdown",
   "metadata": {},
   "source": [
    "## lift P(AB)/P(A)P(B)"
   ]
  },
  {
   "cell_type": "code",
   "execution_count": null,
   "metadata": {},
   "outputs": [],
   "source": [
    "def get_lift(sup, supA, supB):\n",
    "    return sup/supA*supB"
   ]
  },
  {
   "cell_type": "markdown",
   "metadata": {},
   "source": [
    "## all-confidence "
   ]
  },
  {
   "cell_type": "code",
   "execution_count": null,
   "metadata": {},
   "outputs": [],
   "source": [
    "def get_allconfidence(sup, ant, conseq, fc, n, cabecalho):\n",
    "    maiorsuporte = 0\n",
    "    for item in ant:\n",
    "        if maiorsuporte < fc[cabecalho[item]]:\n",
    "            maiorsuporte = fc[cabecalho[item]]\n",
    "    for item in conseq:\n",
    "        if maiorsuporte < fc[cabecalho[item]]:\n",
    "            maiorsuporte = fc[cabecalho[item]]\n",
    "    \n",
    "    maiorsuporte = maiorsuporte/n\n",
    "    \n",
    "    return sup/maiorsuporte"
   ]
  },
  {
   "cell_type": "markdown",
   "metadata": {},
   "source": [
    "# Preparando metadado"
   ]
  },
  {
   "cell_type": "code",
   "execution_count": null,
   "metadata": {},
   "outputs": [],
   "source": [
    "arq_regras = open(str_nome_regras, 'r')\n",
    "arq_metadado = open(str_nome + \".csv\", 'w', encoding='utf-8', newline='')\n",
    "\n",
    "escreve_csv = csv.writer(arq_metadado, delimiter=';')\n",
    "escreve_csv.writerow(['Antecedente', 'Consequente', 'Dist. Anteced. x Origem', 'Dist. Conseq. x Origem',\n",
    "                      'Dist. Anteced. -> Conseq.', \"Dist. Anteced. - Conseq.\", \"Suporte Ant.\", \"Suporte Cons.\",\n",
    "                      \"Suporte\", \"Confianca\", \"Lift\", \"all-confianca\"])\n",
    "\n",
    "fi = 0\n",
    "for linha_regra in arq_regras:\n",
    "    info = linha_regra.split()\n",
    "    antecedente = [int(i) for i in info[0].split(\",\")]\n",
    "    consequente = [int(i) for i in info[1].split(\",\")]\n",
    "    \n",
    "    #print(antecedente)\n",
    "    #print(consequente)\n",
    "    \n",
    "    #métricas\n",
    "    suporte = float(info[2])\n",
    "    confianca = float(info[3])\n",
    "    suporteA = float(info[4])\n",
    "    suporteC = float(info[5])\n",
    "    \n",
    "    #print(suporte, confianca, suporteA, suporteC)\n",
    "    \n",
    "    #confianca = get_confianca(suporte,suporteA)\n",
    "    lift = get_lift(suporte,suporteA,suporteC)\n",
    "    allconfianca = get_allconfidence(suporte, antecedente, consequente, fc, n, cabecalho)\n",
    "\n",
    "    # distâncias\n",
    "    ptmA = ponto_medio(antecedente, x_projected, ns, cabecalho)\n",
    "    #print(ptmA)\n",
    "    ptmC = ponto_medio(consequente, x_projected, ns, cabecalho)\n",
    "    #print(ptmC)\n",
    "    dist_ant_orig = distancia_ponto_origem(ptmA, suporteA, rho)\n",
    "    dist_conseq_orig = distancia_ponto_origem(ptmC, suporteC, rho)\n",
    "    dist_ant_conseq = distancia_antecedente_consequente(ptmA, suporteA, ptmC, suporteC, rho)\n",
    "    dist_ant_menos_conseq = dist_ant_orig - dist_conseq_orig\n",
    "    \n",
    "    #escreve arquivo csv\n",
    "    b = [antecedente, consequente, dist_ant_orig, dist_conseq_orig, dist_ant_conseq, dist_ant_menos_conseq, \n",
    "         suporteA, suporteC, suporte, confianca, lift, allconfianca]\n",
    "    escreve_csv.writerow(b)\n",
    "#     fi = fi + 1\n",
    "#     if fi > 10:\n",
    "#         break\n",
    "    \n",
    "arq_regras.close()\n",
    "arq_metadado.close()"
   ]
  },
  {
   "cell_type": "markdown",
   "metadata": {
    "collapsed": true
   },
   "source": [
    "# Plots regras de associação"
   ]
  },
  {
   "cell_type": "code",
   "execution_count": null,
   "metadata": {},
   "outputs": [],
   "source": [
    "import pandas as pd\n",
    "import matplotlib.pyplot as plt\n",
    "from IPython.display import display, HTML\n",
    "\n",
    "df = pd.read_csv(str_nome+\".csv\",sep=\";\")\n",
    "#display(df)"
   ]
  },
  {
   "cell_type": "markdown",
   "metadata": {},
   "source": [
    "## confiança"
   ]
  },
  {
   "cell_type": "code",
   "execution_count": null,
   "metadata": {},
   "outputs": [],
   "source": [
    "order = df.sort_values(by='Dist. Anteced. - Conseq.', ascending=False)\n",
    "x = order['Dist. Anteced. - Conseq.'].tolist()\n",
    "y = order['Confianca'].tolist()\n",
    "\n",
    "width = 12\n",
    "height = 7\n",
    "plt.figure(figsize=(width, height))\n",
    "\n",
    "plt.plot(x, y)\n",
    "plt.ylabel('Confiança')\n",
    "plt.xlabel('Distância')\n",
    "plt.savefig(str_nome+'_confianca.png')\n",
    "plt.show()"
   ]
  },
  {
   "cell_type": "markdown",
   "metadata": {},
   "source": [
    "## all-confiança"
   ]
  },
  {
   "cell_type": "code",
   "execution_count": null,
   "metadata": {},
   "outputs": [],
   "source": [
    "order = df.sort_values(by='Dist. Anteced. - Conseq.', ascending=False)\n",
    "x = order['Dist. Anteced. - Conseq.'].tolist()\n",
    "y = order['all-confianca'].tolist()\n",
    "\n",
    "width = 12\n",
    "height = 7\n",
    "plt.figure(figsize=(width, height))\n",
    "\n",
    "plt.plot(x, y)\n",
    "plt.ylabel('All-confianca')\n",
    "plt.xlabel('Distância')\n",
    "plt.savefig(str_nome+'_allconfianca.png')\n",
    "plt.show()"
   ]
  },
  {
   "cell_type": "markdown",
   "metadata": {},
   "source": [
    "## lift "
   ]
  },
  {
   "cell_type": "code",
   "execution_count": null,
   "metadata": {
    "scrolled": true
   },
   "outputs": [],
   "source": [
    "order = df.sort_values(by='Dist. Anteced. - Conseq.', ascending=False)\n",
    "x = order['Dist. Anteced. - Conseq.'].tolist()\n",
    "y = order['Lift'].tolist()\n",
    "\n",
    "width = 12\n",
    "height = 7\n",
    "plt.figure(figsize=(width, height))\n",
    "\n",
    "plt.plot(x, y)\n",
    "plt.ylabel('Lift')\n",
    "plt.xlabel('Distância')\n",
    "plt.savefig(str_nome+'_lift.png')\n",
    "plt.show()"
   ]
  },
  {
   "cell_type": "code",
   "execution_count": null,
   "metadata": {},
   "outputs": [],
   "source": []
  },
  {
   "cell_type": "code",
   "execution_count": null,
   "metadata": {},
   "outputs": [],
   "source": []
  }
 ],
 "metadata": {
  "kernelspec": {
   "display_name": "Python 3",
   "language": "python",
   "name": "python3"
  },
  "language_info": {
   "codemirror_mode": {
    "name": "ipython",
    "version": 3
   },
   "file_extension": ".py",
   "mimetype": "text/x-python",
   "name": "python",
   "nbconvert_exporter": "python",
   "pygments_lexer": "ipython3",
   "version": "3.7.1"
  }
 },
 "nbformat": 4,
 "nbformat_minor": 2
}
