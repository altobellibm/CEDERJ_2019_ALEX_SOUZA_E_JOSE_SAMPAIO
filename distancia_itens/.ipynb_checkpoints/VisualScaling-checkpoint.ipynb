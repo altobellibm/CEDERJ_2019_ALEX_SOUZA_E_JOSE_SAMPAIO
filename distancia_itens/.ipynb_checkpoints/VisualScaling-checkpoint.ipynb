{
 "cells": [
  {
   "cell_type": "markdown",
   "metadata": {},
   "source": [
    "### Importações necessárias"
   ]
  },
  {
   "cell_type": "code",
   "execution_count": 1,
   "metadata": {
    "collapsed": true
   },
   "outputs": [],
   "source": [
    "import numpy as np\n",
    "import math\n",
    "from numpy import *\n",
    "from numpy.linalg import inv\n",
    "import numpy.linalg as la\n",
    "import csv"
   ]
  },
  {
   "cell_type": "markdown",
   "metadata": {},
   "source": [
    "# Parêmtros de entrada"
   ]
  },
  {
   "cell_type": "code",
   "execution_count": 2,
   "metadata": {
    "collapsed": true
   },
   "outputs": [],
   "source": [
    "str_nome = \"led7\"\n",
    "str_nome_base = \"led7_data_without_class.dat\"\n",
    "str_nome_regras = \"led7_regras.txt\""
   ]
  },
  {
   "cell_type": "markdown",
   "metadata": {},
   "source": [
    " # Cálculo Dual Scaling"
   ]
  },
  {
   "cell_type": "markdown",
   "metadata": {},
   "source": [
    "#### Ler arquivo base e criar Matriz padrão respota"
   ]
  },
  {
   "cell_type": "code",
   "execution_count": 3,
   "metadata": {
    "collapsed": true
   },
   "outputs": [],
   "source": [
    "arq = open(str_nome_base, 'r')\n",
    "texto = arq.readlines()\n",
    "base = []\n",
    "item = set()\n",
    "for linha in texto:\n",
    "    valores_linha = []\n",
    "    for value in linha.split():\n",
    "        valores_linha.append(int(value))\n",
    "        item.add(int(value))\n",
    "    base.append(valores_linha)   \n",
    "arq.close()\n",
    "\n",
    "#print(valores)\n",
    "\n",
    "F = np.zeros(shape=(len(base), len(item)))\n",
    "for i in range(len(base)):\n",
    "    for value in base[i]:\n",
    "        F[i,value-1] = 1\n",
    "\n",
    "#print(F)"
   ]
  },
  {
   "cell_type": "markdown",
   "metadata": {},
   "source": [
    "#### Número de Dimensões do Espaço-solução (ns)"
   ]
  },
  {
   "cell_type": "code",
   "execution_count": 4,
   "metadata": {},
   "outputs": [
    {
     "name": "stdout",
     "output_type": "stream",
     "text": [
      "Total de Dimensões:  6 .\n"
     ]
    }
   ],
   "source": [
    "q = len(base[0]) #número de questões (categorias)\n",
    "m = F.shape[1] #número de itens\n",
    "n = F.shape[0] #número de transações\n",
    "\n",
    "ns = m - q - 1\n",
    "\n",
    "print('Total de Dimensões: ', ns,'.')"
   ]
  },
  {
   "cell_type": "markdown",
   "metadata": {},
   "source": [
    "#### Matriz Diagonal de Linhas (Dr) "
   ]
  },
  {
   "cell_type": "code",
   "execution_count": 5,
   "metadata": {
    "collapsed": true
   },
   "outputs": [],
   "source": [
    "#Cálculo da Matriz Diagonal de Linhas de F\n",
    "fr = np.sum(F, axis=1)\n",
    "Dr = np.diagflat(fr)\n",
    "\n",
    "#print(fr)\n",
    "\n",
    "#Cálculo da Matriz Diagonal de Colunas de F\n",
    "fc = np.sum(F, axis=0)\n",
    "Dc = np.diagflat(fc)\n",
    "#print(fc)"
   ]
  },
  {
   "cell_type": "markdown",
   "metadata": {},
   "source": [
    "#### Matriz Resultante (M)"
   ]
  },
  {
   "cell_type": "code",
   "execution_count": 6,
   "metadata": {},
   "outputs": [
    {
     "name": "stdout",
     "output_type": "stream",
     "text": [
      "[[0.14285714 0.         0.04545455 0.03065671 0.02366763 0.04168936\n",
      "  0.04849039 0.03098515 0.0509983  0.01783077 0.02256989 0.03999784\n",
      "  0.07452855 0.01712375]\n",
      " [0.         0.14285714 0.0974026  0.11220044 0.11918951 0.10116779\n",
      "  0.09436675 0.11187199 0.09185885 0.12502638 0.12028725 0.1028593\n",
      "  0.0683286  0.12573339]\n",
      " [0.07487923 0.0560106  0.14285714 0.         0.03320279 0.07073274\n",
      "  0.08142726 0.05024069 0.07150596 0.0464233  0.0941267  0.05388898\n",
      "  0.08499096 0.04816482]\n",
      " [0.06797792 0.08684654 0.         0.14285714 0.10965435 0.0721244\n",
      "  0.06142988 0.09261645 0.07135118 0.09643385 0.04873044 0.08896816\n",
      "  0.05786618 0.09469232]\n",
      " [0.02398206 0.04215852 0.02042313 0.05010893 0.14285714 0.\n",
      "  0.02143511 0.04576581 0.03412784 0.04199198 0.02616055 0.03983568\n",
      "  0.02208732 0.04557238]\n",
      " [0.11887509 0.10069863 0.12243402 0.09274821 0.         0.14285714\n",
      "  0.12142204 0.09709133 0.1087293  0.10086516 0.11669659 0.10302146\n",
      "  0.12076983 0.09728476]\n",
      " [0.06400966 0.0434835  0.06524927 0.03657018 0.0279244  0.05621105\n",
      "  0.14285714 0.         0.05154001 0.0450517  0.03539369 0.05161883\n",
      "  0.07737019 0.03370173]\n",
      " [0.07884748 0.09937364 0.07760788 0.10628696 0.11493274 0.08664609\n",
      "  0.         0.14285714 0.09131713 0.09780544 0.10746345 0.09123831\n",
      "  0.06548695 0.10915541]\n",
      " [0.1136991  0.0714888  0.09677419 0.07173981 0.07508939 0.0850124\n",
      "  0.08704744 0.08000542 0.14285714 0.         0.05206463 0.08880601\n",
      "  0.11766985 0.06378769]\n",
      " [0.02915804 0.07136834 0.04608295 0.07111734 0.06776775 0.05784474\n",
      "  0.0558097  0.06285172 0.         0.14285714 0.09079251 0.05405113\n",
      "  0.02518729 0.07906945]\n",
      " [0.01518288 0.02824621 0.03843737 0.01478369 0.01736761 0.02753071\n",
      "  0.01803686 0.02840871 0.01570964 0.03734965 0.14285714 0.\n",
      "  0.01511237 0.03001774]\n",
      " [0.12767426 0.11461094 0.10441977 0.12807345 0.12548953 0.11532644\n",
      "  0.12482028 0.11444844 0.1271475  0.10550749 0.         0.14285714\n",
      "  0.12774477 0.11283941]\n",
      " [0.09955141 0.03185979 0.06891496 0.03485839 0.02911629 0.05657409\n",
      "  0.07829042 0.03437521 0.07049992 0.02057396 0.03000769 0.05345657\n",
      "  0.14285714 0.        ]\n",
      " [0.04330573 0.11099735 0.07394219 0.10799876 0.11374085 0.08628305\n",
      "  0.06456672 0.10848193 0.07235722 0.12228318 0.11284945 0.08940057\n",
      "  0.         0.14285714]]\n"
     ]
    }
   ],
   "source": [
    "Ft = np.transpose(F) #Matriz Transporta de F\n",
    "Dri = np.linalg.inv(Dr) #Matriz Invertida de Dr\n",
    "Dci = np.linalg.inv(Dc) #Matriz Invertida de Dc\n",
    "\n",
    "#Cálculo da Matriz M\n",
    "M = np.dot(np.dot(np.dot(Ft,Dri),F), Dci)\n",
    "print(M)"
   ]
  },
  {
   "cell_type": "markdown",
   "metadata": {},
   "source": [
    "#### Autovalores (AD) e Autovetores (AV) de M"
   ]
  },
  {
   "cell_type": "code",
   "execution_count": 7,
   "metadata": {},
   "outputs": [
    {
     "name": "stderr",
     "output_type": "stream",
     "text": [
      "C:\\Users\\altobelli\\Anaconda3\\lib\\site-packages\\ipykernel_launcher.py:18: ComplexWarning: Casting complex values to real discards the imaginary part\n",
      "C:\\Users\\altobelli\\Anaconda3\\lib\\site-packages\\ipykernel_launcher.py:19: ComplexWarning: Casting complex values to real discards the imaginary part\n"
     ]
    }
   ],
   "source": [
    "#Array de Autovalores (uAD) e Autovetores (uAV) de M.\n",
    "uAD, uAV = np.linalg.eig(M)\n",
    "\n",
    "#Ordenando os Autovalores\n",
    "AD = np.flip(np.sort(uAD, axis=0),0)\n",
    "\n",
    "#np.savetxt('AV_python.txt',uAV.astype(np.float32))\n",
    "\n",
    "#Ordenando os Autovetores em função dos Autovalores\n",
    "uAVt = uAV.T.tolist()\n",
    "AV=[]\n",
    "for r in AD:\n",
    "    #print(n)\n",
    "    ix = uAD.tolist().index(r)\n",
    "    AV.append(uAVt[ix])\n",
    "\n",
    "#convertendo o resultado de um tipo complexo para Float32    \n",
    "AD = AD.astype(np.float32)\n",
    "AV = np.array(AV).T.astype(np.float32)\n",
    "\n",
    "#removendo a primeira dimensão\n",
    "AD = np.delete(AD,0,0)\n",
    "AV = np.delete(AV,0,1)\n",
    "\n",
    "#removendo as demais dimensões que devem ser desconsideradas (de forma que fiquem com dimensão ns)\n",
    "count = ns\n",
    "while count < AD.shape[0]:\n",
    "    AD = np.delete(AD,count,0)\n",
    "    AV = np.delete(AV,count,1)\n",
    "\n",
    "#print(AD)\n",
    "#print(AV)"
   ]
  },
  {
   "cell_type": "markdown",
   "metadata": {},
   "source": [
    "#### rho"
   ]
  },
  {
   "cell_type": "code",
   "execution_count": 8,
   "metadata": {
    "collapsed": true
   },
   "outputs": [],
   "source": [
    "# Cálculo da Matriz unidimensional rho\n",
    "rho = []\n",
    "\n",
    "for i in range(ns):\n",
    "    rho.append(math.sqrt(AD.tolist()[i]))\n",
    "\n",
    "rho = np.array(rho)\n",
    "#print(rho)   "
   ]
  },
  {
   "cell_type": "markdown",
   "metadata": {},
   "source": [
    "#### Matriz Produto de Hadamard (H)"
   ]
  },
  {
   "cell_type": "code",
   "execution_count": 9,
   "metadata": {
    "collapsed": true
   },
   "outputs": [],
   "source": [
    "#Calculo da produto de Hadamard de Autovetores * autovetores\n",
    "H = np.multiply(AV,AV)\n",
    "#print(H.astype(np.float32))"
   ]
  },
  {
   "cell_type": "markdown",
   "metadata": {},
   "source": [
    "#### Matriz T"
   ]
  },
  {
   "cell_type": "code",
   "execution_count": 10,
   "metadata": {
    "collapsed": true
   },
   "outputs": [],
   "source": [
    "#Matriz resultante T\n",
    "T = np.dot(Dc, H)\n",
    "\n",
    "#print(T.astype(np.float32))"
   ]
  },
  {
   "cell_type": "markdown",
   "metadata": {},
   "source": [
    "#### Matriz Cc"
   ]
  },
  {
   "cell_type": "code",
   "execution_count": 11,
   "metadata": {
    "collapsed": true
   },
   "outputs": [],
   "source": [
    "sumCols = np.sum(T, axis=0).tolist()\n",
    "#print (sumCols)\n",
    "ft = np.sum(F)\n",
    "# print(ft)\n",
    "# print(sumCols)\n",
    "Cc = []\n",
    "for i in range(ns):\n",
    "    r = math.sqrt(ft/float(sumCols[i]))\n",
    "    Cc.append(r)\n",
    "\n",
    "# print (Cc) "
   ]
  },
  {
   "cell_type": "markdown",
   "metadata": {},
   "source": [
    "#### Peso padrão dos Itens (x-normed)"
   ]
  },
  {
   "cell_type": "code",
   "execution_count": 12,
   "metadata": {
    "collapsed": true
   },
   "outputs": [],
   "source": [
    "#multiplicação da matriz de autovetores pela matrix Cc\n",
    "x_normed = []\n",
    "for r in AV:\n",
    "    x_normed.append(np.multiply(r,Cc))\n",
    "\n",
    "#print (np.array(x_normed))"
   ]
  },
  {
   "cell_type": "markdown",
   "metadata": {},
   "source": [
    "#### Peso projetado dos Itens (x-projected)"
   ]
  },
  {
   "cell_type": "code",
   "execution_count": 13,
   "metadata": {},
   "outputs": [
    {
     "name": "stdout",
     "output_type": "stream",
     "text": [
      "(14, 6)\n"
     ]
    }
   ],
   "source": [
    "#Resultado Principal do Dual Scaling\n",
    "x_projected = []\n",
    "for r in x_normed:\n",
    "    x_projected.append(np.multiply(r,rho))\n",
    "\n",
    "x_projected = np.array(x_projected)\n",
    "print (x_projected.shape)"
   ]
  },
  {
   "cell_type": "markdown",
   "metadata": {},
   "source": [
    "#### Calculando Delta (d)"
   ]
  },
  {
   "cell_type": "code",
   "execution_count": 14,
   "metadata": {},
   "outputs": [
    {
     "name": "stdout",
     "output_type": "stream",
     "text": [
      "[32.044020251493954, 20.497351641469756, 14.702432453643716, 12.324312203591262, 11.94443492341623, 8.487453331389975]\n"
     ]
    }
   ],
   "source": [
    "d = []\n",
    "s = 100/np.sum(AD)\n",
    "for r in AD:\n",
    "    d.append(s*r)\n",
    "print(d)"
   ]
  },
  {
   "cell_type": "markdown",
   "metadata": {},
   "source": [
    "# Calculo de Distância"
   ]
  },
  {
   "cell_type": "markdown",
   "metadata": {},
   "source": [
    "## Distância entre itens (matriz de distância)"
   ]
  },
  {
   "cell_type": "code",
   "execution_count": 23,
   "metadata": {
    "collapsed": true
   },
   "outputs": [],
   "source": [
    "# não precisa calcular\n",
    "DM = np.ndarray(shape=(x_projected.shape[0],x_projected.shape[0]), dtype=float)\n",
    "for i in range(x_projected.shape[0]):\n",
    "    for j in range(x_projected.shape[0]):\n",
    "        quad_dist = 0\n",
    "        for aux in range(ns):\n",
    "            dist = (x_projected.item((i, aux)) / math.sqrt(fc.item(i)/n)) - (x_projected.item((j, aux)) / math.sqrt(fc.item(j)/n))\n",
    "            quad_dist += (dist * dist)*rho.item(aux)\n",
    "        DM.itemset((i,j),quad_dist)\n",
    "        DM.itemset((j,i),quad_dist)\n",
    "\n",
    "# print(DM)"
   ]
  },
  {
   "cell_type": "markdown",
   "metadata": {},
   "source": [
    "## Função ponto médio"
   ]
  },
  {
   "cell_type": "code",
   "execution_count": 24,
   "metadata": {
    "collapsed": true
   },
   "outputs": [],
   "source": [
    "def ponto_medio(ids_item, x_projected, ns):\n",
    "    ptm = np.zeros(ns)\n",
    "    for item in ids_item:\n",
    "        for i in range(x_projected.shape[1]):\n",
    "            ptm[i] = ptm[i] + x_projected[item-1][i]\n",
    "    ptm = ptm / float(len(ids_item))\n",
    "    return ptm"
   ]
  },
  {
   "cell_type": "markdown",
   "metadata": {},
   "source": [
    "## Função de cálculo de distância de antecedente e consequente"
   ]
  },
  {
   "cell_type": "code",
   "execution_count": 25,
   "metadata": {
    "collapsed": true
   },
   "outputs": [],
   "source": [
    "def distancia_antecedente_consequente(ptmA, supS, ptmC, supC, rho):\n",
    "    quad_dist = 0\n",
    "    for aux in range(ns):\n",
    "        dist = ( ptmA[aux] / math.sqrt(supS) ) - (ptmC[aux] / math.sqrt(supC))\n",
    "        quad_dist += (dist * dist)*rho[aux]\n",
    "    return quad_dist    "
   ]
  },
  {
   "cell_type": "markdown",
   "metadata": {},
   "source": [
    "## Função de cálculo de distância do ponto até a origem"
   ]
  },
  {
   "cell_type": "code",
   "execution_count": 26,
   "metadata": {
    "collapsed": true
   },
   "outputs": [],
   "source": [
    "def distancia_ponto_origem(pt, sup, rho):\n",
    "    quad_dist = 0\n",
    "    for aux in range(ns):\n",
    "        dist = pt[aux] / math.sqrt(sup)\n",
    "        quad_dist += (dist * dist)*rho[aux]\n",
    "    return quad_dist"
   ]
  },
  {
   "cell_type": "markdown",
   "metadata": {},
   "source": [
    "# Métricas de Interesse"
   ]
  },
  {
   "cell_type": "markdown",
   "metadata": {},
   "source": [
    "## confiança P(B | A) = AUB / A"
   ]
  },
  {
   "cell_type": "code",
   "execution_count": 27,
   "metadata": {
    "collapsed": true
   },
   "outputs": [],
   "source": [
    "def get_confianca(sup, supA):\n",
    "    return sup/supA"
   ]
  },
  {
   "cell_type": "markdown",
   "metadata": {},
   "source": [
    "## lift P(AB)/P(A)P(B)"
   ]
  },
  {
   "cell_type": "code",
   "execution_count": 28,
   "metadata": {
    "collapsed": true
   },
   "outputs": [],
   "source": [
    "def get_lift(sup, supA, supB):\n",
    "    return sup/supA*supB"
   ]
  },
  {
   "cell_type": "markdown",
   "metadata": {},
   "source": [
    "## all-confidence "
   ]
  },
  {
   "cell_type": "code",
   "execution_count": 29,
   "metadata": {
    "collapsed": true
   },
   "outputs": [],
   "source": [
    "def get_allconfidence(sup, ant, conseq, fc, n):\n",
    "    maiorsuporte = 0\n",
    "    for item in ant:\n",
    "        if maiorsuporte < fc[item-1]:\n",
    "            maiorsuporte = fc[item-1]\n",
    "    for item in conseq:\n",
    "        if maiorsuporte < fc[item-1]:\n",
    "            maiorsuporte = fc[item-1]\n",
    "    \n",
    "    maiorsuporte = maiorsuporte/n\n",
    "    \n",
    "    return sup/maiorsuporte"
   ]
  },
  {
   "cell_type": "markdown",
   "metadata": {},
   "source": [
    "# Preparando metadado"
   ]
  },
  {
   "cell_type": "code",
   "execution_count": 30,
   "metadata": {
    "collapsed": true
   },
   "outputs": [],
   "source": [
    "arq_regras = open(str_nome_regras, 'r')\n",
    "arq_metadado = open(str_nome + \".csv\", 'w', encoding='utf-8', newline='')\n",
    "\n",
    "escreve_csv = csv.writer(arq_metadado, delimiter=';')\n",
    "escreve_csv.writerow(['Antecedente', 'Consequente', 'Dist. Anteced. x Origem', 'Dist. Conseq. x Origem',\n",
    "                      'Dist. Anteced. -> Conseq.', \"Dist. Anteced. - Conseq.\", \"Suporte Ant.\", \"Suporte Cons.\",\n",
    "                      \"Suporte\", \"Confianca\", \"Lift\", \"all-confianca\"])\n",
    "\n",
    "for linha_regra in arq_regras:\n",
    "    info = linha_regra.split()\n",
    "    antecedente = [int(i) for i in info[0].split(\",\")]\n",
    "    consequente = [int(i) for i in info[1].split(\",\")]\n",
    "    \n",
    "    #métricas\n",
    "    suporte = float(info[2])\n",
    "    confianca = float(info[3])\n",
    "    suporteA = float(info[4])\n",
    "    suporteC = float(info[5])\n",
    "    lift = get_lift(suporte,suporteA,suporteC)\n",
    "    allconfianca = get_allconfidence(suporte, antecedente, consequente, fc, n)\n",
    "\n",
    "    # distâncias\n",
    "    ptmA = ponto_medio(antecedente, x_projected, ns)\n",
    "    ptmC = ponto_medio(consequente, x_projected, ns)\n",
    "    \n",
    "    dist_ant_orig = distancia_ponto_origem(ptmA, suporteA, rho)\n",
    "    dist_conseq_orig = distancia_ponto_origem(ptmC, suporteA, rho)\n",
    "    dist_ant_conseq = distancia_antecedente_consequente(ptmA, suporteA, ptmC, suporteC, rho)\n",
    "    dist_ant_menos_conseq = dist_ant_orig - dist_conseq_orig\n",
    "    \n",
    "    #escreve arquivo csv\n",
    "    b = [antecedente, consequente, dist_ant_orig, dist_conseq_orig, dist_ant_conseq, dist_ant_menos_conseq, \n",
    "         suporteA, suporteC, suporte, confianca, lift, allconfianca]\n",
    "    escreve_csv.writerow(b)\n",
    "    \n",
    "arq_regras.close()\n",
    "arq_metadado.close()"
   ]
  },
  {
   "cell_type": "code",
   "execution_count": null,
   "metadata": {
    "collapsed": true
   },
   "outputs": [],
   "source": []
  },
  {
   "cell_type": "code",
   "execution_count": null,
   "metadata": {
    "collapsed": true
   },
   "outputs": [],
   "source": []
  },
  {
   "cell_type": "code",
   "execution_count": null,
   "metadata": {
    "collapsed": true
   },
   "outputs": [],
   "source": []
  }
 ],
 "metadata": {
  "kernelspec": {
   "display_name": "Python 3",
   "language": "python",
   "name": "python3"
  },
  "language_info": {
   "codemirror_mode": {
    "name": "ipython",
    "version": 3
   },
   "file_extension": ".py",
   "mimetype": "text/x-python",
   "name": "python",
   "nbconvert_exporter": "python",
   "pygments_lexer": "ipython3",
   "version": "3.6.1"
  }
 },
 "nbformat": 4,
 "nbformat_minor": 2
}
